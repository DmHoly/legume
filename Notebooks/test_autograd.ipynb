{
 "cells": [
  {
   "cell_type": "code",
   "execution_count": 1,
   "metadata": {},
   "outputs": [],
   "source": [
    "import sys\n",
    "sys.path.append('../')\n",
    "\n",
    "import numpy as np\n",
    "import core\n",
    "from core.shapes import Circle\n",
    "from utils.utils import grad_num\n",
    "\n",
    "%load_ext autoreload\n",
    "%autoreload 2"
   ]
  },
  {
   "cell_type": "code",
   "execution_count": 2,
   "metadata": {},
   "outputs": [
    {
     "name": "stdout",
     "output_type": "stream",
     "text": [
      "[1 2]\n"
     ]
    }
   ],
   "source": [
    "test = np.array([1, 2, 3])\n",
    "print(test[(slice(0, 2))])"
   ]
  },
  {
   "cell_type": "code",
   "execution_count": 3,
   "metadata": {},
   "outputs": [],
   "source": [
    "def test_area(r):\n",
    "    circle = Circle(r=r)\n",
    "    return circle.area"
   ]
  },
  {
   "cell_type": "code",
   "execution_count": 4,
   "metadata": {},
   "outputs": [
    {
     "data": {
      "text/plain": [
       "array([3.14159265])"
      ]
     },
     "execution_count": 4,
     "metadata": {},
     "output_type": "execute_result"
    }
   ],
   "source": [
    "test_area(1)"
   ]
  },
  {
   "cell_type": "code",
   "execution_count": 5,
   "metadata": {},
   "outputs": [],
   "source": [
    "core.set_backend('autograd')"
   ]
  },
  {
   "cell_type": "code",
   "execution_count": 6,
   "metadata": {
    "scrolled": true
   },
   "outputs": [
    {
     "data": {
      "text/plain": [
       "array([3.14159265])"
      ]
     },
     "execution_count": 6,
     "metadata": {},
     "output_type": "execute_result"
    }
   ],
   "source": [
    "def test_area(r):\n",
    "    circle = Circle(r=r)\n",
    "    return circle.area\n",
    "test_area(1)"
   ]
  },
  {
   "cell_type": "code",
   "execution_count": 7,
   "metadata": {},
   "outputs": [],
   "source": [
    "from autograd import grad\n",
    "import autograd.numpy as npa"
   ]
  },
  {
   "cell_type": "code",
   "execution_count": 8,
   "metadata": {},
   "outputs": [
    {
     "data": {
      "text/plain": [
       "6.283185307179587"
      ]
     },
     "execution_count": 8,
     "metadata": {},
     "output_type": "execute_result"
    }
   ],
   "source": [
    "grad(test_area)(1.0)"
   ]
  },
  {
   "cell_type": "code",
   "execution_count": 9,
   "metadata": {},
   "outputs": [
    {
     "data": {
      "text/plain": [
       "array(6.28318563)"
      ]
     },
     "execution_count": 9,
     "metadata": {},
     "output_type": "execute_result"
    }
   ],
   "source": [
    "grad_num(test_area, np.array(1.0))"
   ]
  },
  {
   "cell_type": "code",
   "execution_count": 10,
   "metadata": {},
   "outputs": [
    {
     "name": "stdout",
     "output_type": "stream",
     "text": [
      "[8.86902664] [7.88017559]\n",
      "<class 'numpy.ndarray'>\n"
     ]
    }
   ],
   "source": [
    "# Initialize a lattice\n",
    "lattice = core.Lattice('square')\n",
    "\n",
    "def test_eps(rs):\n",
    "    # Initialize a PhC (by default with eps = 1 in upper and lower cladding, we set upper one to 5)\n",
    "    phc = core.PhotCryst(lattice, eps_u = 5)\n",
    "    # Add a layer to the PhC with thickness 1 and background permittivity 10\n",
    "    phc.add_layer(d=1, eps_b=10)\n",
    "    for r in rs:\n",
    "        circle = Circle(r=r)\n",
    "        phc.layers[-1].add_shape(circle)\n",
    "    \n",
    "    return phc.layers[-1].eps_avg\n",
    "\n",
    "print(test_eps([0.2]), test_eps([0.2, 0.2]))\n",
    "print(type(test_eps([0.2])))"
   ]
  },
  {
   "cell_type": "code",
   "execution_count": 11,
   "metadata": {},
   "outputs": [
    {
     "name": "stdout",
     "output_type": "stream",
     "text": [
      "[ -8.11198173 -14.83276578] [ -8.11198375 -14.83276826]\n",
      "<class 'list'>\n"
     ]
    }
   ],
   "source": [
    "print(grad(test_eps)(np.array([0.2, 0.3])), grad_num(test_eps, np.array([0.2, 0.3])))\n",
    "print(type(grad(test_eps)([0.2, 0.3])))"
   ]
  },
  {
   "cell_type": "code",
   "execution_count": 12,
   "metadata": {},
   "outputs": [
    {
     "name": "stdout",
     "output_type": "stream",
     "text": [
      "78.95683520871486\n",
      "<class 'numpy.float64'>\n"
     ]
    }
   ],
   "source": [
    "def test_lattice(a1):\n",
    "    lattice = core.Lattice(a1, npa.array([0., 1.]))\n",
    "    return lattice.bz_area\n",
    "\n",
    "print(test_lattice([.5, 0.]))\n",
    "print(type(test_lattice([.5, 0.])))"
   ]
  },
  {
   "cell_type": "code",
   "execution_count": 13,
   "metadata": {
    "scrolled": true
   },
   "outputs": [
    {
     "name": "stdout",
     "output_type": "stream",
     "text": [
      "[-986.95994666    0.        ]\n",
      "[-986.96044011    0.        ]\n"
     ]
    },
    {
     "name": "stderr",
     "output_type": "stream",
     "text": [
      "/home/momchil/anaconda3/lib/python3.7/site-packages/autograd/numpy/numpy_vjps.py:444: FutureWarning: Using a non-tuple sequence for multidimensional indexing is deprecated; use `arr[tuple(seq)]` instead of `arr[seq]`. In the future this will be interpreted as an array index, `arr[np.array(seq)]`, which will result either in an error or a different result.\n",
      "  return lambda g: g[idxs]\n"
     ]
    }
   ],
   "source": [
    "print(grad_num(test_lattice, npa.array([0.2, 0.3])))\n",
    "print(grad(test_lattice)(npa.array([0.2, 0.3])))\n",
    "# print(type(grad(test_lattice)(npa.array([0.2, 0.3]))))"
   ]
  },
  {
   "cell_type": "code",
   "execution_count": 14,
   "metadata": {},
   "outputs": [
    {
     "name": "stdout",
     "output_type": "stream",
     "text": [
      "[-986.96044011    0.        ]\n"
     ]
    },
    {
     "name": "stderr",
     "output_type": "stream",
     "text": [
      "/home/momchil/anaconda3/lib/python3.7/site-packages/autograd/numpy/numpy_vjps.py:444: FutureWarning: Using a non-tuple sequence for multidimensional indexing is deprecated; use `arr[tuple(seq)]` instead of `arr[seq]`. In the future this will be interpreted as an array index, `arr[np.array(seq)]`, which will result either in an error or a different result.\n",
      "  return lambda g: g[idxs]\n"
     ]
    }
   ],
   "source": [
    "print(grad(test_lattice)(np.array([0.2, 0.3])))"
   ]
  },
  {
   "cell_type": "code",
   "execution_count": 8,
   "metadata": {},
   "outputs": [
    {
     "name": "stdout",
     "output_type": "stream",
     "text": [
      "0.47567186901682823\n",
      "3.749184159165697 3.7491841586856367\n"
     ]
    }
   ],
   "source": [
    "def test_pwe(r):\n",
    "    # Initialize a lattice\n",
    "    lattice = core.Lattice('square')\n",
    "    # Initialize a layer\n",
    "    layer = core.Layer(lattice, eps_b = 1)\n",
    "    # Add a shape to this layer \n",
    "    layer.add_shape('circle', {'x': 0, 'y': 0.1, 'r': r, 'eps': 8.9})\n",
    "    pwe = core.PlaneWaveExp(layer, gmax=10)\n",
    "    \n",
    "    return npa.max(npa.imag(pwe.T1[1]))\n",
    "\n",
    "print(test_pwe([0.2]))\n",
    "print(grad(test_pwe)(np.array(0.2)), grad_num(test_pwe, np.array(0.2)))"
   ]
  },
  {
   "cell_type": "code",
   "execution_count": 10,
   "metadata": {
    "scrolled": false
   },
   "outputs": [
    {
     "name": "stdout",
     "output_type": "stream",
     "text": [
      "55.448120372278865\n",
      "-65.47691732809798 -65.47693629954665\n"
     ]
    }
   ],
   "source": [
    "def test_pwe(r):\n",
    "    # Initialize a lattice\n",
    "    lattice = core.Lattice('square')\n",
    "    # Initialize a layer\n",
    "    layer = core.Layer(lattice, eps_b = 1)\n",
    "    # Add a shape to this layer \n",
    "    layer.add_shape('circle', {'x': 0, 'y': 0.1, 'r': r, 'eps': 8.9})\n",
    "    pwe = core.PlaneWaveExp(layer, gmax=10)\n",
    "    pwe.compute_eps_inv()\n",
    "    \n",
    "    return npa.real(npa.sum(pwe.eps_inv_mat))\n",
    "\n",
    "print(test_pwe([0.2]))\n",
    "print(grad(test_pwe)(np.array(0.2)), grad_num(test_pwe, np.array(0.2)))"
   ]
  },
  {
   "cell_type": "code",
   "execution_count": 15,
   "metadata": {},
   "outputs": [
    {
     "name": "stdout",
     "output_type": "stream",
     "text": [
      "0.6278853353619951\n",
      "-2.4519325208774907 -2.451931510050187\n"
     ]
    }
   ],
   "source": [
    "def test_pwe(r):\n",
    "    # Initialize a lattice\n",
    "    lattice = core.Lattice('square')\n",
    "    # Initialize a layer\n",
    "    layer = core.Layer(lattice, eps_b = 1)\n",
    "    # Add a shape to this layer \n",
    "    layer.add_shape('circle', {'x': 0, 'y': 0.1, 'r': r, 'eps': 8.9})\n",
    "    pwe = core.PlaneWaveExp(layer, gmax=10)\n",
    "    pwe.run(pol='tm')\n",
    "    \n",
    "    return pwe.freqs[2]\n",
    "\n",
    "print(test_pwe([0.2]))\n",
    "print(grad(test_pwe)(np.array(0.2)), grad_num(test_pwe, np.array(0.2)))"
   ]
  },
  {
   "cell_type": "markdown",
   "metadata": {},
   "source": [
    "To figure out for PWE:\n",
    "- how to store eigenvalues over multiple k-s\n",
    "- eigenvector problem seems to be for k = 0\n",
    "- check out what broadcasting is about for eigh\n",
    "- implement polygonal shapes...\n",
    "- check out if pytorch or some other package supports eigenvalues\n",
    "\n",
    "For autograd eigh:\n",
    "- Write a test for the eigenvalue only part for hermitian matrices\n",
    "- Write pull request...\n"
   ]
  },
  {
   "cell_type": "code",
   "execution_count": null,
   "metadata": {},
   "outputs": [],
   "source": []
  }
 ],
 "metadata": {
  "kernelspec": {
   "display_name": "Python 3",
   "language": "python",
   "name": "python3"
  },
  "language_info": {
   "codemirror_mode": {
    "name": "ipython",
    "version": 3
   },
   "file_extension": ".py",
   "mimetype": "text/x-python",
   "name": "python",
   "nbconvert_exporter": "python",
   "pygments_lexer": "ipython3",
   "version": "3.7.2"
  }
 },
 "nbformat": 4,
 "nbformat_minor": 2
}
