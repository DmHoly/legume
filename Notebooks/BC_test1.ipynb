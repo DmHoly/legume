{
 "cells": [
  {
   "cell_type": "code",
   "execution_count": 10,
   "metadata": {},
   "outputs": [
    {
     "name": "stdout",
     "output_type": "stream",
     "text": [
      "The autoreload extension is already loaded. To reload it, use:\n",
      "  %reload_ext autoreload\n"
     ]
    }
   ],
   "source": [
    "import sys\n",
    "sys.path.append('../')\n",
    "\n",
    "import numpy as np\n",
    "from phc import PhotCryst, Lattice\n",
    "from shapes import Square\n",
    "\n",
    "%load_ext autoreload\n",
    "%autoreload 2\n",
    "\n",
    "from gme import GuidedModeExp\n",
    "from utils import plot_reciprocal"
   ]
  },
  {
   "cell_type": "code",
   "execution_count": 11,
   "metadata": {},
   "outputs": [
    {
     "data": {
      "image/png": "[encoded data removed]",
      "text/plain": [
       "<Figure size 432x288 with 1 Axes>"
      ]
     },
     "metadata": {
      "needs_background": "light"
     },
     "output_type": "display_data"
    },
    {
     "data": {
      "image/png": "[encoded data removed]",
      "text/plain": [
       "<Figure size 432x288 with 3 Axes>"
      ]
     },
     "metadata": {
      "needs_background": "light"
     },
     "output_type": "display_data"
    },
    {
     "data": {
      "image/png": "[encoded data removed]",
      "text/plain": [
       "<Figure size 432x288 with 3 Axes>"
      ]
     },
     "metadata": {
      "needs_background": "light"
     },
     "output_type": "display_data"
    }
   ],
   "source": [
    "lattice = Lattice('square')\n",
    "# Initialize a PhC (by default with eps = 1 in upper and lower cladding, we set upper one to 5)\n",
    "phc = PhotCryst(lattice, eps_u = 5)\n",
    "# Add a layer to the PhC with thickness 1 and background permittivity 10\n",
    "phc.add_layer(d=1, eps_b=10)\n",
    "# Add a shape to this layer \n",
    "phc.add_shape('circle', {'x': 0, 'y': 0, 'r': 0.2, 'eps': 1}, layer_ind=0)\n",
    "# Add another layer and another shape\n",
    "phc.add_layer(d=0.5, eps_b=6)\n",
    "phc.add_shape('circle', {'x': 0.3, 'y': 0, 'r': 0.3, 'eps': 12}, layer_ind=1)\n",
    "# Plot an xz cross section of the permittivity\n",
    "phc.plot_cross('xz')\n",
    "# Plot an overview picture\n",
    "phc.plot_overview()"
   ]
  },
  {
   "cell_type": "code",
   "execution_count": 14,
   "metadata": {},
   "outputs": [
    {
     "data": {
      "text/plain": [
       "array([-1.  , -0.98, -0.96, -0.94, -0.92, -0.9 , -0.88, -0.86, -0.84,\n",
       "       -0.82, -0.8 , -0.78, -0.76, -0.74, -0.72, -0.7 , -0.68, -0.66,\n",
       "       -0.64, -0.62, -0.6 , -0.58, -0.56, -0.54, -0.52, -0.5 , -0.48,\n",
       "       -0.46, -0.44, -0.42, -0.4 , -0.38, -0.36, -0.34, -0.32, -0.3 ,\n",
       "       -0.28, -0.26, -0.24, -0.22, -0.2 , -0.18, -0.16, -0.14, -0.12,\n",
       "       -0.1 , -0.08, -0.06, -0.04, -0.02,  0.  ,  0.02,  0.04,  0.06,\n",
       "        0.08,  0.1 ,  0.12,  0.14,  0.16,  0.18,  0.2 ,  0.22,  0.24,\n",
       "        0.26,  0.28,  0.3 ,  0.32,  0.34,  0.36,  0.38,  0.4 ,  0.42,\n",
       "        0.44,  0.46,  0.48,  0.5 ,  0.52,  0.54,  0.56,  0.58,  0.6 ,\n",
       "        0.62,  0.64,  0.66,  0.68,  0.7 ,  0.72,  0.74,  0.76,  0.78,\n",
       "        0.8 ,  0.82,  0.84,  0.86,  0.88,  0.9 ,  0.92,  0.94,  0.96,\n",
       "        0.98,  1.  ,  1.02,  1.04,  1.06,  1.08,  1.1 ,  1.12,  1.14,\n",
       "        1.16,  1.18,  1.2 ,  1.22,  1.24,  1.26,  1.28,  1.3 ,  1.32,\n",
       "        1.34,  1.36,  1.38,  1.4 ,  1.42,  1.44,  1.46,  1.48,  1.5 ,\n",
       "        1.52,  1.54,  1.56,  1.58,  1.6 ,  1.62,  1.64,  1.66,  1.68,\n",
       "        1.7 ,  1.72,  1.74,  1.76,  1.78,  1.8 ,  1.82,  1.84,  1.86,\n",
       "        1.88,  1.9 ,  1.92,  1.94,  1.96,  1.98,  2.  ,  2.02,  2.04,\n",
       "        2.06,  2.08,  2.1 ,  2.12,  2.14,  2.16,  2.18,  2.2 ,  2.22,\n",
       "        2.24,  2.26,  2.28,  2.3 ,  2.32,  2.34,  2.36,  2.38,  2.4 ,\n",
       "        2.42,  2.44,  2.46])"
      ]
     },
     "execution_count": 14,
     "metadata": {},
     "output_type": "execute_result"
    }
   ],
   "source": [
    "phc.z_grid()"
   ]
  },
  {
   "cell_type": "code",
   "execution_count": 18,
   "metadata": {},
   "outputs": [
    {
     "data": {
      "text/plain": [
       "(array([-1.  , -0.98, -0.96, -0.94, -0.92, -0.9 , -0.88, -0.86, -0.84,\n",
       "        -0.82, -0.8 , -0.78, -0.76, -0.74, -0.72, -0.7 , -0.68, -0.66,\n",
       "        -0.64, -0.62, -0.6 , -0.58, -0.56, -0.54, -0.52, -0.5 , -0.48,\n",
       "        -0.46, -0.44, -0.42, -0.4 , -0.38, -0.36, -0.34, -0.32, -0.3 ,\n",
       "        -0.28, -0.26, -0.24, -0.22, -0.2 , -0.18, -0.16, -0.14, -0.12,\n",
       "        -0.1 , -0.08, -0.06, -0.04, -0.02,  0.  ,  0.02,  0.04,  0.06,\n",
       "         0.08,  0.1 ,  0.12,  0.14,  0.16,  0.18,  0.2 ,  0.22,  0.24,\n",
       "         0.26,  0.28,  0.3 ,  0.32,  0.34,  0.36,  0.38,  0.4 ,  0.42,\n",
       "         0.44,  0.46,  0.48,  0.5 ,  0.52,  0.54,  0.56,  0.58,  0.6 ,\n",
       "         0.62,  0.64,  0.66,  0.68,  0.7 ,  0.72,  0.74,  0.76,  0.78,\n",
       "         0.8 ,  0.82,  0.84,  0.86,  0.88,  0.9 ,  0.92,  0.94,  0.96]),\n",
       " array([-1.  , -0.98, -0.96, -0.94, -0.92, -0.9 , -0.88, -0.86, -0.84,\n",
       "        -0.82, -0.8 , -0.78, -0.76, -0.74, -0.72, -0.7 , -0.68, -0.66,\n",
       "        -0.64, -0.62, -0.6 , -0.58, -0.56, -0.54, -0.52, -0.5 , -0.48,\n",
       "        -0.46, -0.44, -0.42, -0.4 , -0.38, -0.36, -0.34, -0.32, -0.3 ,\n",
       "        -0.28, -0.26, -0.24, -0.22, -0.2 , -0.18, -0.16, -0.14, -0.12,\n",
       "        -0.1 , -0.08, -0.06, -0.04, -0.02,  0.  ,  0.02,  0.04,  0.06,\n",
       "         0.08,  0.1 ,  0.12,  0.14,  0.16,  0.18,  0.2 ,  0.22,  0.24,\n",
       "         0.26,  0.28,  0.3 ,  0.32,  0.34,  0.36,  0.38,  0.4 ,  0.42,\n",
       "         0.44,  0.46,  0.48,  0.5 ,  0.52,  0.54,  0.56,  0.58,  0.6 ,\n",
       "         0.62,  0.64,  0.66,  0.68,  0.7 ,  0.72,  0.74,  0.76,  0.78,\n",
       "         0.8 ,  0.82,  0.84,  0.86,  0.88,  0.9 ,  0.92,  0.94,  0.96]))"
      ]
     },
     "execution_count": 18,
     "metadata": {},
     "output_type": "execute_result"
    }
   ],
   "source": [
    "phc.xy_grid()"
   ]
  },
  {
   "cell_type": "markdown",
   "metadata": {},
   "source": [
    "### after I changed phc.py"
   ]
  },
  {
   "cell_type": "code",
   "execution_count": 15,
   "metadata": {},
   "outputs": [
    {
     "data": {
      "text/plain": [
       "array([-1.0000000e+00, -9.8000000e-01, -9.6000000e-01, -9.4000000e-01,\n",
       "       -9.2000000e-01, -9.0000000e-01, -8.8000000e-01, -8.6000000e-01,\n",
       "       -8.4000000e-01, -8.2000000e-01, -8.0000000e-01, -7.8000000e-01,\n",
       "       -7.6000000e-01, -7.4000000e-01, -7.2000000e-01, -7.0000000e-01,\n",
       "       -6.8000000e-01, -6.6000000e-01, -6.4000000e-01, -6.2000000e-01,\n",
       "       -6.0000000e-01, -5.8000000e-01, -5.6000000e-01, -5.4000000e-01,\n",
       "       -5.2000000e-01, -5.0000000e-01, -4.8000000e-01, -4.6000000e-01,\n",
       "       -4.4000000e-01, -4.2000000e-01, -4.0000000e-01, -3.8000000e-01,\n",
       "       -3.6000000e-01, -3.4000000e-01, -3.2000000e-01, -3.0000000e-01,\n",
       "       -2.8000000e-01, -2.6000000e-01, -2.4000000e-01, -2.2000000e-01,\n",
       "       -2.0000000e-01, -1.8000000e-01, -1.6000000e-01, -1.4000000e-01,\n",
       "       -1.2000000e-01, -1.0000000e-01, -8.0000000e-02, -6.0000000e-02,\n",
       "       -4.0000000e-02, -2.0000000e-02,  8.8817842e-16,  2.0000000e-02,\n",
       "        4.0000000e-02,  6.0000000e-02,  8.0000000e-02,  1.0000000e-01,\n",
       "        1.2000000e-01,  1.4000000e-01,  1.6000000e-01,  1.8000000e-01,\n",
       "        2.0000000e-01,  2.2000000e-01,  2.4000000e-01,  2.6000000e-01,\n",
       "        2.8000000e-01,  3.0000000e-01,  3.2000000e-01,  3.4000000e-01,\n",
       "        3.6000000e-01,  3.8000000e-01,  4.0000000e-01,  4.2000000e-01,\n",
       "        4.4000000e-01,  4.6000000e-01,  4.8000000e-01,  5.0000000e-01,\n",
       "        5.2000000e-01,  5.4000000e-01,  5.6000000e-01,  5.8000000e-01,\n",
       "        6.0000000e-01,  6.2000000e-01,  6.4000000e-01,  6.6000000e-01,\n",
       "        6.8000000e-01,  7.0000000e-01,  7.2000000e-01,  7.4000000e-01,\n",
       "        7.6000000e-01,  7.8000000e-01,  8.0000000e-01,  8.2000000e-01,\n",
       "        8.4000000e-01,  8.6000000e-01,  8.8000000e-01,  9.0000000e-01,\n",
       "        9.2000000e-01,  9.4000000e-01,  9.6000000e-01,  9.8000000e-01,\n",
       "        1.0000000e+00,  1.0200000e+00,  1.0400000e+00,  1.0600000e+00,\n",
       "        1.0800000e+00,  1.1000000e+00,  1.1200000e+00,  1.1400000e+00,\n",
       "        1.1600000e+00,  1.1800000e+00,  1.2000000e+00,  1.2200000e+00,\n",
       "        1.2400000e+00,  1.2600000e+00,  1.2800000e+00,  1.3000000e+00,\n",
       "        1.3200000e+00,  1.3400000e+00,  1.3600000e+00,  1.3800000e+00,\n",
       "        1.4000000e+00,  1.4200000e+00,  1.4400000e+00,  1.4600000e+00,\n",
       "        1.4800000e+00,  1.5000000e+00,  1.5200000e+00,  1.5400000e+00,\n",
       "        1.5600000e+00,  1.5800000e+00,  1.6000000e+00,  1.6200000e+00,\n",
       "        1.6400000e+00,  1.6600000e+00,  1.6800000e+00,  1.7000000e+00,\n",
       "        1.7200000e+00,  1.7400000e+00,  1.7600000e+00,  1.7800000e+00,\n",
       "        1.8000000e+00,  1.8200000e+00,  1.8400000e+00,  1.8600000e+00,\n",
       "        1.8800000e+00,  1.9000000e+00,  1.9200000e+00,  1.9400000e+00,\n",
       "        1.9600000e+00,  1.9800000e+00,  2.0000000e+00,  2.0200000e+00,\n",
       "        2.0400000e+00,  2.0600000e+00,  2.0800000e+00,  2.1000000e+00,\n",
       "        2.1200000e+00,  2.1400000e+00,  2.1600000e+00,  2.1800000e+00,\n",
       "        2.2000000e+00,  2.2200000e+00,  2.2400000e+00,  2.2600000e+00,\n",
       "        2.2800000e+00,  2.3000000e+00,  2.3200000e+00,  2.3400000e+00,\n",
       "        2.3600000e+00,  2.3800000e+00,  2.4000000e+00,  2.4200000e+00,\n",
       "        2.4400000e+00,  2.4600000e+00,  2.4800000e+00])"
      ]
     },
     "execution_count": 15,
     "metadata": {},
     "output_type": "execute_result"
    }
   ],
   "source": [
    "## after I changed phc.py\n",
    "phc.z_grid()"
   ]
  },
  {
   "cell_type": "code",
   "execution_count": 17,
   "metadata": {},
   "outputs": [
    {
     "data": {
      "text/plain": [
       "(array([-1.0000000e+00, -9.8000000e-01, -9.6000000e-01, -9.4000000e-01,\n",
       "        -9.2000000e-01, -9.0000000e-01, -8.8000000e-01, -8.6000000e-01,\n",
       "        -8.4000000e-01, -8.2000000e-01, -8.0000000e-01, -7.8000000e-01,\n",
       "        -7.6000000e-01, -7.4000000e-01, -7.2000000e-01, -7.0000000e-01,\n",
       "        -6.8000000e-01, -6.6000000e-01, -6.4000000e-01, -6.2000000e-01,\n",
       "        -6.0000000e-01, -5.8000000e-01, -5.6000000e-01, -5.4000000e-01,\n",
       "        -5.2000000e-01, -5.0000000e-01, -4.8000000e-01, -4.6000000e-01,\n",
       "        -4.4000000e-01, -4.2000000e-01, -4.0000000e-01, -3.8000000e-01,\n",
       "        -3.6000000e-01, -3.4000000e-01, -3.2000000e-01, -3.0000000e-01,\n",
       "        -2.8000000e-01, -2.6000000e-01, -2.4000000e-01, -2.2000000e-01,\n",
       "        -2.0000000e-01, -1.8000000e-01, -1.6000000e-01, -1.4000000e-01,\n",
       "        -1.2000000e-01, -1.0000000e-01, -8.0000000e-02, -6.0000000e-02,\n",
       "        -4.0000000e-02, -2.0000000e-02,  8.8817842e-16,  2.0000000e-02,\n",
       "         4.0000000e-02,  6.0000000e-02,  8.0000000e-02,  1.0000000e-01,\n",
       "         1.2000000e-01,  1.4000000e-01,  1.6000000e-01,  1.8000000e-01,\n",
       "         2.0000000e-01,  2.2000000e-01,  2.4000000e-01,  2.6000000e-01,\n",
       "         2.8000000e-01,  3.0000000e-01,  3.2000000e-01,  3.4000000e-01,\n",
       "         3.6000000e-01,  3.8000000e-01,  4.0000000e-01,  4.2000000e-01,\n",
       "         4.4000000e-01,  4.6000000e-01,  4.8000000e-01,  5.0000000e-01,\n",
       "         5.2000000e-01,  5.4000000e-01,  5.6000000e-01,  5.8000000e-01,\n",
       "         6.0000000e-01,  6.2000000e-01,  6.4000000e-01,  6.6000000e-01,\n",
       "         6.8000000e-01,  7.0000000e-01,  7.2000000e-01,  7.4000000e-01,\n",
       "         7.6000000e-01,  7.8000000e-01,  8.0000000e-01,  8.2000000e-01,\n",
       "         8.4000000e-01,  8.6000000e-01,  8.8000000e-01,  9.0000000e-01,\n",
       "         9.2000000e-01,  9.4000000e-01,  9.6000000e-01,  9.8000000e-01]),\n",
       " array([-1.0000000e+00, -9.8000000e-01, -9.6000000e-01, -9.4000000e-01,\n",
       "        -9.2000000e-01, -9.0000000e-01, -8.8000000e-01, -8.6000000e-01,\n",
       "        -8.4000000e-01, -8.2000000e-01, -8.0000000e-01, -7.8000000e-01,\n",
       "        -7.6000000e-01, -7.4000000e-01, -7.2000000e-01, -7.0000000e-01,\n",
       "        -6.8000000e-01, -6.6000000e-01, -6.4000000e-01, -6.2000000e-01,\n",
       "        -6.0000000e-01, -5.8000000e-01, -5.6000000e-01, -5.4000000e-01,\n",
       "        -5.2000000e-01, -5.0000000e-01, -4.8000000e-01, -4.6000000e-01,\n",
       "        -4.4000000e-01, -4.2000000e-01, -4.0000000e-01, -3.8000000e-01,\n",
       "        -3.6000000e-01, -3.4000000e-01, -3.2000000e-01, -3.0000000e-01,\n",
       "        -2.8000000e-01, -2.6000000e-01, -2.4000000e-01, -2.2000000e-01,\n",
       "        -2.0000000e-01, -1.8000000e-01, -1.6000000e-01, -1.4000000e-01,\n",
       "        -1.2000000e-01, -1.0000000e-01, -8.0000000e-02, -6.0000000e-02,\n",
       "        -4.0000000e-02, -2.0000000e-02,  8.8817842e-16,  2.0000000e-02,\n",
       "         4.0000000e-02,  6.0000000e-02,  8.0000000e-02,  1.0000000e-01,\n",
       "         1.2000000e-01,  1.4000000e-01,  1.6000000e-01,  1.8000000e-01,\n",
       "         2.0000000e-01,  2.2000000e-01,  2.4000000e-01,  2.6000000e-01,\n",
       "         2.8000000e-01,  3.0000000e-01,  3.2000000e-01,  3.4000000e-01,\n",
       "         3.6000000e-01,  3.8000000e-01,  4.0000000e-01,  4.2000000e-01,\n",
       "         4.4000000e-01,  4.6000000e-01,  4.8000000e-01,  5.0000000e-01,\n",
       "         5.2000000e-01,  5.4000000e-01,  5.6000000e-01,  5.8000000e-01,\n",
       "         6.0000000e-01,  6.2000000e-01,  6.4000000e-01,  6.6000000e-01,\n",
       "         6.8000000e-01,  7.0000000e-01,  7.2000000e-01,  7.4000000e-01,\n",
       "         7.6000000e-01,  7.8000000e-01,  8.0000000e-01,  8.2000000e-01,\n",
       "         8.4000000e-01,  8.6000000e-01,  8.8000000e-01,  9.0000000e-01,\n",
       "         9.2000000e-01,  9.4000000e-01,  9.6000000e-01,  9.8000000e-01]))"
      ]
     },
     "execution_count": 17,
     "metadata": {},
     "output_type": "execute_result"
    }
   ],
   "source": [
    "phc.xy_grid()"
   ]
  },
  {
   "cell_type": "markdown",
   "metadata": {},
   "source": [
    "### Now implement gme.py"
   ]
  },
  {
   "cell_type": "code",
   "execution_count": 141,
   "metadata": {},
   "outputs": [],
   "source": [
    "from IPython.core.interactiveshell import InteractiveShell\n",
    "InteractiveShell.ast_node_interactivity = \"all\"\n",
    "# import importlib,sys\n",
    "# importlib.reload(sys.modules['guided_modes'])\n",
    "from guided_modes import *\n",
    "from scipy.optimize import bisect\n",
    "import matplotlib.pyplot as plt"
   ]
  },
  {
   "cell_type": "code",
   "execution_count": 142,
   "metadata": {},
   "outputs": [],
   "source": [
    "\n",
    "def D22(omega, g_array, eps_array, d_array, n_modes=1):\n",
    "    '''\n",
    "    Function to get eigen modes by solving D22=0\n",
    "    Input\n",
    "        omega \t\t\t: frequency * 2π , in units of light speed / unit length\n",
    "        g_array\t\t\t: shape[M+1,1], wave vector along propagation direction (ß_x)\n",
    "        eps_array\t\t: shape[M+1,1], slab permittivities\n",
    "        d_array\t\t\t: thicknesses of each layer\n",
    "    Output\n",
    "        abs(D_22) \n",
    "    (S matrices describe layers 0...M-1, T matrices describe layers 1...M-1)\n",
    "    (num_layers = M-1)\n",
    "    '''\n",
    "    assert len(g_array)==len(eps_array), 'g_array and eps_array should both have length = num_layers+2'\n",
    "    assert len(d_array)==len(eps_array)-2, 'd_array should have length = num_layers'\n",
    "    chi_array = chi(omega, g_array, eps_array)\n",
    "    S11 = eps_array[1:]*chi_array[:-1] + eps_array[:-1]*chi_array[1:]\n",
    "    S12 = eps_array[1:]*chi_array[:-1] - eps_array[:-1]*chi_array[1:]\n",
    "    S22 = S11\n",
    "    S21 = S12\n",
    "    S_matrices = 0.5/eps_array[1:]/chi_array[:-1] * np.array([[S11,S12],[S21,S22]]).transpose([2,0,1])\n",
    "    T11 = np.exp(1j*chi_array[1:-1]*d_array)\n",
    "    T22 = np.exp(-1j*chi_array[1:-1]*d_array)\n",
    "    T_matrices = np.array([[T11,np.zeros_like(T11)],[np.zeros_like(T11),T22]]).transpose([2,0,1])\n",
    "    D = S_matrices[0,:,:]\n",
    "    for i,S in enumerate(S_matrices[1:]):\n",
    "        T = T_matrices[i]\n",
    "        D = S.dot(T.dot(D))\n",
    "    return (D[1,1])\n",
    "\n"
   ]
  },
  {
   "cell_type": "code",
   "execution_count": 35,
   "metadata": {},
   "outputs": [
    {
     "data": {
      "text/plain": [
       "1j"
      ]
     },
     "execution_count": 35,
     "metadata": {},
     "output_type": "execute_result"
    }
   ],
   "source": [
    "## note the +1j convention\n",
    "np.sqrt(-1,dtype=np.complex)"
   ]
  },
  {
   "cell_type": "code",
   "execution_count": 34,
   "metadata": {},
   "outputs": [
    {
     "ename": "TypeError",
     "evalue": "guided_modes() missing 2 required positional arguments: 'g_array' and 'eps_array'",
     "output_type": "error",
     "traceback": [
      "\u001b[0;31m---------------------------------------------------------------------------\u001b[0m",
      "\u001b[0;31mTypeError\u001b[0m                                 Traceback (most recent call last)",
      "\u001b[0;32m<ipython-input-34-5e20ed8ec3f6>\u001b[0m in \u001b[0;36m<module>\u001b[0;34m\u001b[0m\n\u001b[0;32m----> 1\u001b[0;31m \u001b[0mguided_modes\u001b[0m\u001b[0;34m(\u001b[0m\u001b[0;34m)\u001b[0m\u001b[0;34m\u001b[0m\u001b[0;34m\u001b[0m\u001b[0m\n\u001b[0m",
      "\u001b[0;31mTypeError\u001b[0m: guided_modes() missing 2 required positional arguments: 'g_array' and 'eps_array'"
     ]
    }
   ],
   "source": [
    "guided_modes()"
   ]
  },
  {
   "cell_type": "code",
   "execution_count": 171,
   "metadata": {},
   "outputs": [
    {
     "data": {
      "text/plain": [
       "<Figure size 576x576 with 0 Axes>"
      ]
     },
     "execution_count": 171,
     "metadata": {},
     "output_type": "execute_result"
    },
    {
     "data": {
      "text/plain": [
       "Text(0.5, 1.0, '$D_{22}$ vs $\\\\omega$')"
      ]
     },
     "execution_count": 171,
     "metadata": {},
     "output_type": "execute_result"
    },
    {
     "data": {
      "text/plain": [
       "<matplotlib.axes._subplots.AxesSubplot at 0x12279fe48>"
      ]
     },
     "execution_count": 171,
     "metadata": {},
     "output_type": "execute_result"
    },
    {
     "data": {
      "text/plain": [
       "[<matplotlib.lines.Line2D at 0x1227277b8>]"
      ]
     },
     "execution_count": 171,
     "metadata": {},
     "output_type": "execute_result"
    },
    {
     "data": {
      "text/plain": [
       "<matplotlib.axes._subplots.AxesSubplot at 0x122857d68>"
      ]
     },
     "execution_count": 171,
     "metadata": {},
     "output_type": "execute_result"
    },
    {
     "data": {
      "text/plain": [
       "[<matplotlib.lines.Line2D at 0x1228579e8>]"
      ]
     },
     "execution_count": 171,
     "metadata": {},
     "output_type": "execute_result"
    },
    {
     "data": {
      "text/plain": [
       "(-10, 10)"
      ]
     },
     "execution_count": 171,
     "metadata": {},
     "output_type": "execute_result"
    },
    {
     "data": {
      "text/plain": [
       "<matplotlib.axes._subplots.AxesSubplot at 0x12299f550>"
      ]
     },
     "execution_count": 171,
     "metadata": {},
     "output_type": "execute_result"
    },
    {
     "data": {
      "text/plain": [
       "[<matplotlib.lines.Line2D at 0x122980080>]"
      ]
     },
     "execution_count": 171,
     "metadata": {},
     "output_type": "execute_result"
    },
    {
     "data": {
      "text/plain": [
       "<matplotlib.axes._subplots.AxesSubplot at 0x1229c7f28>"
      ]
     },
     "execution_count": 171,
     "metadata": {},
     "output_type": "execute_result"
    },
    {
     "data": {
      "text/plain": [
       "[<matplotlib.lines.Line2D at 0x1229c7ba8>]"
      ]
     },
     "execution_count": 171,
     "metadata": {},
     "output_type": "execute_result"
    },
    {
     "data": {
      "text/plain": [
       "<matplotlib.axes._subplots.AxesSubplot at 0x1229e5c88>"
      ]
     },
     "execution_count": 171,
     "metadata": {},
     "output_type": "execute_result"
    },
    {
     "data": {
      "text/plain": [
       "[<matplotlib.lines.Line2D at 0x122a033c8>]"
      ]
     },
     "execution_count": 171,
     "metadata": {},
     "output_type": "execute_result"
    },
    {
     "data": {
      "text/plain": [
       "(-10, 10)"
      ]
     },
     "execution_count": 171,
     "metadata": {},
     "output_type": "execute_result"
    },
    {
     "data": {
      "image/png": "[encoded data removed]",
      "text/plain": [
       "<Figure size 576x576 with 5 Axes>"
      ]
     },
     "metadata": {
      "needs_background": "light"
     },
     "output_type": "display_data"
    }
   ],
   "source": [
    "gs=np.array([10,10,10])\n",
    "epses=np.array([1,2,1])\n",
    "ds=np.array([1])\n",
    "omegas=np.linspace(0,20,3000)\n",
    "D22s=np.array([D22_TE(w,gs,epses,ds) for w in omegas])\n",
    "plt.figure(figsize=[8,8])\n",
    "plt.title(r'$D_{22}$ vs $\\omega$')\n",
    "plt.subplot(321)\n",
    "plt.plot(omegas,D22s)\n",
    "plt.subplot(322)\n",
    "plt.plot(omegas,D22s)\n",
    "plt.ylim([-10, 10])\n",
    "plt.subplot(323)\n",
    "plt.plot(omegas,D22s.imag)\n",
    "plt.subplot(325)\n",
    "plt.plot(omegas,np.abs(D22s))\n",
    "plt.subplot(326)\n",
    "plt.plot(omegas,np.abs(D22s))\n",
    "plt.ylim([-10,10])\n",
    "plt.show()"
   ]
  },
  {
   "cell_type": "code",
   "execution_count": 82,
   "metadata": {},
   "outputs": [
    {
     "data": {
      "text/plain": [
       "array([-760122.51272647])"
      ]
     },
     "execution_count": 82,
     "metadata": {},
     "output_type": "execute_result"
    }
   ],
   "source": [
    "from scipy.optimize import fsolve,bisect\n",
    "fsolve(D22,[0],(gs,epses,ds))"
   ]
  },
  {
   "cell_type": "code",
   "execution_count": 167,
   "metadata": {},
   "outputs": [],
   "source": [
    "Dimag = lambda x,*args: D22_TE(x,*args).imag\n",
    "Dreal = lambda x,*args: D22_TE(x,*args).real"
   ]
  },
  {
   "cell_type": "code",
   "execution_count": 169,
   "metadata": {},
   "outputs": [
    {
     "name": "stdout",
     "output_type": "stream",
     "text": [
      "f(a) and f(b) must have different signs\n",
      "f(a) and f(b) must have different signs\n",
      "chi array [0.        +6.93974063j 1.91833261+0.j         0.        +6.93974063j]\n",
      "chi array [0.        +6.j 5.29150262+0.j 0.        +6.j]\n",
      "chi array [0.        +6.49923072j 3.93954312+0.j         0.        +6.49923072j]\n",
      "chi array [0.        +6.72606869j 3.08544972+0.j         0.        +6.72606869j]\n",
      "chi array [0.        +6.61437828j 3.53553391+0.j         0.        +6.61437828j]\n",
      "chi array [0.        +6.67064465j 3.31737848+0.j         0.        +6.67064465j]\n",
      "chi array [0.        +6.69846064j 3.20331859+0.j         0.        +6.69846064j]\n",
      "chi array [0.        +6.7122905j 3.14488672+0.j        0.        +6.7122905j]\n",
      "chi array [0.        +6.71918603j 3.11529744+0.j         0.        +6.71918603j]\n",
      "chi array [0.        +6.71573988j 3.13012392+0.j         0.        +6.71573988j]\n",
      "chi array [0.       +6.71746336j 3.1227187+0.j         0.       +6.71746336j]\n",
      "chi array [0.        +6.7183248j 3.11901008+0.j        0.        +6.7183248j]\n",
      "chi array [0.        +6.7178941j 3.12086489+0.j        0.        +6.7178941j]\n",
      "chi array [0.        +6.71810946j 3.11993761+0.j         0.        +6.71810946j]\n",
      "chi array [0.        +6.71800178j 3.12040128+0.j         0.        +6.71800178j]\n",
      "chi array [0.        +6.71805562j 3.12016945+0.j         0.        +6.71805562j]\n",
      "chi array [0.        +6.71808254j 3.12005353+0.j         0.        +6.71808254j]\n",
      "chi array [0.        +6.718096j 3.11999557+0.j       0.        +6.718096j]\n",
      "chi array [0.        +6.71808927j 3.12002455+0.j         0.        +6.71808927j]\n",
      "chi array [0.        +6.7180859j 3.12003904+0.j        0.        +6.7180859j]\n",
      "chi array [0.        +6.71808422j 3.12004629+0.j         0.        +6.71808422j]\n",
      "chi array [0.        +6.71808506j 3.12004267+0.j         0.        +6.71808506j]\n",
      "chi array [0.        +6.71808548j 3.12004086+0.j         0.        +6.71808548j]\n",
      "chi array [0.        +6.71808569j 3.12003995+0.j         0.        +6.71808569j]\n",
      "chi array [0.       +6.71808559j 3.1200404+0.j         0.       +6.71808559j]\n",
      "chi array [0.        +6.71808564j 3.12004018+0.j         0.        +6.71808564j]\n",
      "chi array [0.        +6.71808566j 3.12004006+0.j         0.        +6.71808566j]\n",
      "chi array [0.        +6.71808565j 3.12004012+0.j         0.        +6.71808565j]\n",
      "chi array [0.        +6.71808565j 3.12004015+0.j         0.        +6.71808565j]\n",
      "chi array [0.        +6.71808564j 3.12004016+0.j         0.        +6.71808564j]\n",
      "chi array [0.        +6.71808564j 3.12004016+0.j         0.        +6.71808564j]\n",
      "chi array [0.        +6.71808564j 3.12004016+0.j         0.        +6.71808564j]\n",
      "chi array [0.        +6.71808564j 3.12004016+0.j         0.        +6.71808564j]\n",
      "chi array [0.        +6.71808564j 3.12004016+0.j         0.        +6.71808564j]\n",
      "chi array [0.        +6.71808564j 3.12004016+0.j         0.        +6.71808564j]\n",
      "chi array [0.        +6.71808564j 3.12004016+0.j         0.        +6.71808564j]\n",
      "chi array [0.        +6.71808564j 3.12004016+0.j         0.        +6.71808564j]\n",
      "chi array [0.        +6.71808564j 3.12004016+0.j         0.        +6.71808564j]\n",
      "chi array [0.        +6.71808564j 3.12004016+0.j         0.        +6.71808564j]\n",
      "chi array [0.        +6.71808564j 3.12004016+0.j         0.        +6.71808564j]\n",
      "chi array [0.        +6.71808564j 3.12004016+0.j         0.        +6.71808564j]\n",
      "7.407248159199662\n",
      "chi array [0.        +6.93974063j 1.91833261+0.j         0.        +6.93974063j]\n",
      "chi array [0.        +6.j 5.29150262+0.j 0.        +6.j]\n",
      "chi array [0.        +6.49923072j 3.93954312+0.j         0.        +6.49923072j]\n",
      "chi array [0.        +6.72606869j 3.08544972+0.j         0.        +6.72606869j]\n",
      "chi array [0.        +6.61437828j 3.53553391+0.j         0.        +6.61437828j]\n",
      "chi array [0.        +6.5572479j 3.74232548+0.j        0.        +6.5572479j]\n",
      "chi array [0.        +6.58592249j 3.64022664+0.j         0.        +6.58592249j]\n",
      "chi array [0.        +6.57161272j 3.69158672+0.j         0.        +6.57161272j]\n",
      "chi array [0.        +6.57877446j 3.66598597+0.j         0.        +6.57877446j]\n",
      "chi array [0.        +6.58235019j 3.65312634+0.j         0.        +6.58235019j]\n",
      "chi array [0.        +6.58056275j 3.65956113+0.j         0.        +6.58056275j]\n",
      "chi array [0.        +6.57966872j 3.66277479+0.j         0.        +6.57966872j]\n",
      "chi array [0.        +6.58011576j 3.66116827+0.j         0.        +6.58011576j]\n",
      "chi array [0.        +6.57989225j 3.66197161+0.j         0.        +6.57989225j]\n",
      "chi array [0.        +6.580004j 3.66156996+0.j       0.        +6.580004j]\n",
      "chi array [0.        +6.57994813j 3.66177079+0.j         0.        +6.57994813j]\n",
      "chi array [0.       +6.57992019j 3.6618712+0.j         0.       +6.57992019j]\n",
      "chi array [0.      +6.57993416j 3.661821+0.j         0.      +6.57993416j]\n",
      "chi array [0.       +6.57994114j 3.6617959+0.j         0.       +6.57994114j]\n",
      "chi array [0.        +6.57994463j 3.66178334+0.j         0.        +6.57994463j]\n",
      "chi array [0.        +6.57994289j 3.66178962+0.j         0.        +6.57994289j]\n",
      "chi array [0.        +6.57994376j 3.66178648+0.j         0.        +6.57994376j]\n",
      "chi array [0.        +6.5799442j 3.66178491+0.j        0.        +6.5799442j]\n",
      "chi array [0.       +6.57994398j 3.6617857+0.j         0.       +6.57994398j]\n",
      "chi array [0.        +6.57994387j 3.66178609+0.j         0.        +6.57994387j]\n",
      "chi array [0.        +6.57994381j 3.66178629+0.j         0.        +6.57994381j]\n",
      "chi array [0.        +6.57994379j 3.66178638+0.j         0.        +6.57994379j]\n",
      "chi array [0.        +6.57994377j 3.66178643+0.j         0.        +6.57994377j]\n",
      "chi array [0.        +6.57994378j 3.66178641+0.j         0.        +6.57994378j]\n",
      "chi array [0.        +6.57994378j 3.66178642+0.j         0.        +6.57994378j]\n",
      "chi array [0.        +6.57994378j 3.66178641+0.j         0.        +6.57994378j]\n",
      "chi array [0.        +6.57994378j 3.66178642+0.j         0.        +6.57994378j]\n",
      "chi array [0.        +6.57994378j 3.66178642+0.j         0.        +6.57994378j]\n",
      "chi array [0.        +6.57994378j 3.66178642+0.j         0.        +6.57994378j]\n",
      "chi array [0.        +6.57994378j 3.66178642+0.j         0.        +6.57994378j]\n",
      "chi array [0.        +6.57994378j 3.66178642+0.j         0.        +6.57994378j]\n",
      "chi array [0.        +6.57994378j 3.66178642+0.j         0.        +6.57994378j]\n",
      "chi array [0.        +6.57994378j 3.66178642+0.j         0.        +6.57994378j]\n",
      "chi array [0.        +6.57994378j 3.66178642+0.j         0.        +6.57994378j]\n",
      "chi array [0.        +6.57994378j 3.66178642+0.j         0.        +6.57994378j]\n",
      "chi array [0.        +6.57994378j 3.66178642+0.j         0.        +6.57994378j]\n",
      "7.530228408511904\n"
     ]
    }
   ],
   "source": [
    "try:\n",
    "    bisect(D22,1e-2,2,args=(gs,epses,ds))\n",
    "except ValueError as e:\n",
    "    print(e)\n",
    "try:\n",
    "    res=bisect(D22,1e-2,0.5,args=(gs,epses,ds))\n",
    "    print(res)\n",
    "except ValueError as e:\n",
    "    print(e)\n",
    "try:\n",
    "    res=bisect(Dimag,7.2,8,args=(gs,epses,ds))\n",
    "    print(res)\n",
    "except ValueError as e:\n",
    "    print(e)\n",
    "try:\n",
    "    res=bisect(Dreal,7.2,8,args=(gs,epses,ds))\n",
    "    print(res)\n",
    "except ValueError as e:\n",
    "    print(e)"
   ]
  },
  {
   "cell_type": "code",
   "execution_count": 56,
   "metadata": {},
   "outputs": [
    {
     "name": "stdout",
     "output_type": "stream",
     "text": [
      "0 [[0 2]\n",
      " [4 6]]\n",
      "[[0. 2.]\n",
      " [4. 6.]]\n",
      "1 [[1 3]\n",
      " [5 7]]\n",
      "[[1. 3.]\n",
      " [5. 7.]]\n"
     ]
    }
   ],
   "source": [
    "a=np.arange(8).reshape([2,2,2]).transpose([2,0,1])\n",
    "D = np.eye(2)\n",
    "for i,j in enumerate(a):\n",
    "    print(i,j)\n",
    "    print(j.dot(D))"
   ]
  },
  {
   "cell_type": "code",
   "execution_count": 62,
   "metadata": {},
   "outputs": [
    {
     "ename": "ValueError",
     "evalue": "f(a) and f(b) must have different signs",
     "output_type": "error",
     "traceback": [
      "\u001b[0;31m---------------------------------------------------------------------------\u001b[0m",
      "\u001b[0;31mValueError\u001b[0m                                Traceback (most recent call last)",
      "\u001b[0;32m<ipython-input-62-0ad047a9a0d0>\u001b[0m in \u001b[0;36m<module>\u001b[0;34m\u001b[0m\n\u001b[1;32m      1\u001b[0m \u001b[0;32mdef\u001b[0m \u001b[0mfunc\u001b[0m\u001b[0;34m(\u001b[0m\u001b[0mx\u001b[0m\u001b[0;34m)\u001b[0m\u001b[0;34m:\u001b[0m\u001b[0;34m\u001b[0m\u001b[0;34m\u001b[0m\u001b[0m\n\u001b[1;32m      2\u001b[0m     \u001b[0;32mreturn\u001b[0m \u001b[0mnp\u001b[0m\u001b[0;34m.\u001b[0m\u001b[0msin\u001b[0m\u001b[0;34m(\u001b[0m\u001b[0;36m2\u001b[0m\u001b[0;34m*\u001b[0m\u001b[0mnp\u001b[0m\u001b[0;34m.\u001b[0m\u001b[0mpi\u001b[0m\u001b[0;34m*\u001b[0m\u001b[0mx\u001b[0m\u001b[0;34m)\u001b[0m\u001b[0;34m-\u001b[0m\u001b[0;36m0.5\u001b[0m\u001b[0;34m\u001b[0m\u001b[0;34m\u001b[0m\u001b[0m\n\u001b[0;32m----> 3\u001b[0;31m \u001b[0mbisect\u001b[0m\u001b[0;34m(\u001b[0m\u001b[0mfunc\u001b[0m\u001b[0;34m,\u001b[0m\u001b[0;36m0\u001b[0m\u001b[0;34m,\u001b[0m\u001b[0;36m4\u001b[0m\u001b[0;34m)\u001b[0m\u001b[0;34m\u001b[0m\u001b[0;34m\u001b[0m\u001b[0m\n\u001b[0m",
      "\u001b[0;32m~/miniconda2/envs/python36/lib/python3.6/site-packages/scipy/optimize/zeros.py\u001b[0m in \u001b[0;36mbisect\u001b[0;34m(f, a, b, args, xtol, rtol, maxiter, full_output, disp)\u001b[0m\n\u001b[1;32m    527\u001b[0m     \u001b[0;32mif\u001b[0m \u001b[0mrtol\u001b[0m \u001b[0;34m<\u001b[0m \u001b[0m_rtol\u001b[0m\u001b[0;34m:\u001b[0m\u001b[0;34m\u001b[0m\u001b[0;34m\u001b[0m\u001b[0m\n\u001b[1;32m    528\u001b[0m         \u001b[0;32mraise\u001b[0m \u001b[0mValueError\u001b[0m\u001b[0;34m(\u001b[0m\u001b[0;34m\"rtol too small (%g < %g)\"\u001b[0m \u001b[0;34m%\u001b[0m \u001b[0;34m(\u001b[0m\u001b[0mrtol\u001b[0m\u001b[0;34m,\u001b[0m \u001b[0m_rtol\u001b[0m\u001b[0;34m)\u001b[0m\u001b[0;34m)\u001b[0m\u001b[0;34m\u001b[0m\u001b[0;34m\u001b[0m\u001b[0m\n\u001b[0;32m--> 529\u001b[0;31m     \u001b[0mr\u001b[0m \u001b[0;34m=\u001b[0m \u001b[0m_zeros\u001b[0m\u001b[0;34m.\u001b[0m\u001b[0m_bisect\u001b[0m\u001b[0;34m(\u001b[0m\u001b[0mf\u001b[0m\u001b[0;34m,\u001b[0m \u001b[0ma\u001b[0m\u001b[0;34m,\u001b[0m \u001b[0mb\u001b[0m\u001b[0;34m,\u001b[0m \u001b[0mxtol\u001b[0m\u001b[0;34m,\u001b[0m \u001b[0mrtol\u001b[0m\u001b[0;34m,\u001b[0m \u001b[0mmaxiter\u001b[0m\u001b[0;34m,\u001b[0m \u001b[0margs\u001b[0m\u001b[0;34m,\u001b[0m \u001b[0mfull_output\u001b[0m\u001b[0;34m,\u001b[0m \u001b[0mdisp\u001b[0m\u001b[0;34m)\u001b[0m\u001b[0;34m\u001b[0m\u001b[0;34m\u001b[0m\u001b[0m\n\u001b[0m\u001b[1;32m    530\u001b[0m     \u001b[0;32mreturn\u001b[0m \u001b[0mresults_c\u001b[0m\u001b[0;34m(\u001b[0m\u001b[0mfull_output\u001b[0m\u001b[0;34m,\u001b[0m \u001b[0mr\u001b[0m\u001b[0;34m)\u001b[0m\u001b[0;34m\u001b[0m\u001b[0;34m\u001b[0m\u001b[0m\n\u001b[1;32m    531\u001b[0m \u001b[0;34m\u001b[0m\u001b[0m\n",
      "\u001b[0;31mValueError\u001b[0m: f(a) and f(b) must have different signs"
     ]
    }
   ],
   "source": [
    "def func(x):\n",
    "    return np.sin(2*np.pi*x)-0.5\n",
    "bisect(func,0,4)"
   ]
  },
  {
   "cell_type": "code",
   "execution_count": null,
   "metadata": {},
   "outputs": [],
   "source": []
  }
 ],
 "metadata": {
  "kernelspec": {
   "display_name": "Python36",
   "language": "python",
   "name": "ipykernel_py36"
  },
  "language_info": {
   "codemirror_mode": {
    "name": "ipython",
    "version": 3
   },
   "file_extension": ".py",
   "mimetype": "text/x-python",
   "name": "python",
   "nbconvert_exporter": "python",
   "pygments_lexer": "ipython3",
   "version": "3.6.8"
  }
 },
 "nbformat": 4,
 "nbformat_minor": 2
}
