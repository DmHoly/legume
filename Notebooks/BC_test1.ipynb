{
 "cells": [
  {
   "cell_type": "code",
   "execution_count": 446,
   "metadata": {},
   "outputs": [
    {
     "name": "stdout",
     "output_type": "stream",
     "text": [
      "The autoreload extension is already loaded. To reload it, use:\n",
      "  %reload_ext autoreload\n"
     ]
    }
   ],
   "source": [
    "import sys\n",
    "sys.path.append('../')\n",
    "\n",
    "import numpy as np\n",
    "from phc import PhotCryst, Lattice\n",
    "from shapes import Square\n",
    "\n",
    "%load_ext autoreload\n",
    "%autoreload 2\n",
    "\n",
    "from gme import GuidedModeExp\n",
    "from utils import plot_reciprocal"
   ]
  },
  {
   "cell_type": "code",
   "execution_count": 11,
   "metadata": {},
   "outputs": [
    {
     "data": {
      "image/png": "[encoded data removed]",
      "text/plain": [
       "<Figure size 432x288 with 1 Axes>"
      ]
     },
     "metadata": {
      "needs_background": "light"
     },
     "output_type": "display_data"
    },
    {
     "data": {
      "image/png": "[encoded data removed]",
      "text/plain": [
       "<Figure size 432x288 with 3 Axes>"
      ]
     },
     "metadata": {
      "needs_background": "light"
     },
     "output_type": "display_data"
    },
    {
     "data": {
      "image/png": "[encoded data removed]",
      "text/plain": [
       "<Figure size 432x288 with 3 Axes>"
      ]
     },
     "metadata": {
      "needs_background": "light"
     },
     "output_type": "display_data"
    }
   ],
   "source": [
    "lattice = Lattice('square')\n",
    "# Initialize a PhC (by default with eps = 1 in upper and lower cladding, we set upper one to 5)\n",
    "phc = PhotCryst(lattice, eps_u = 5)\n",
    "# Add a layer to the PhC with thickness 1 and background permittivity 10\n",
    "phc.add_layer(d=1, eps_b=10)\n",
    "# Add a shape to this layer \n",
    "phc.add_shape('circle', {'x': 0, 'y': 0, 'r': 0.2, 'eps': 1}, layer_ind=0)\n",
    "# Add another layer and another shape\n",
    "phc.add_layer(d=0.5, eps_b=6)\n",
    "phc.add_shape('circle', {'x': 0.3, 'y': 0, 'r': 0.3, 'eps': 12}, layer_ind=1)\n",
    "# Plot an xz cross section of the permittivity\n",
    "phc.plot_cross('xz')\n",
    "# Plot an overview picture\n",
    "phc.plot_overview()"
   ]
  },
  {
   "cell_type": "code",
   "execution_count": 14,
   "metadata": {},
   "outputs": [
    {
     "data": {
      "text/plain": [
       "array([-1.  , -0.98, -0.96, -0.94, -0.92, -0.9 , -0.88, -0.86, -0.84,\n",
       "       -0.82, -0.8 , -0.78, -0.76, -0.74, -0.72, -0.7 , -0.68, -0.66,\n",
       "       -0.64, -0.62, -0.6 , -0.58, -0.56, -0.54, -0.52, -0.5 , -0.48,\n",
       "       -0.46, -0.44, -0.42, -0.4 , -0.38, -0.36, -0.34, -0.32, -0.3 ,\n",
       "       -0.28, -0.26, -0.24, -0.22, -0.2 , -0.18, -0.16, -0.14, -0.12,\n",
       "       -0.1 , -0.08, -0.06, -0.04, -0.02,  0.  ,  0.02,  0.04,  0.06,\n",
       "        0.08,  0.1 ,  0.12,  0.14,  0.16,  0.18,  0.2 ,  0.22,  0.24,\n",
       "        0.26,  0.28,  0.3 ,  0.32,  0.34,  0.36,  0.38,  0.4 ,  0.42,\n",
       "        0.44,  0.46,  0.48,  0.5 ,  0.52,  0.54,  0.56,  0.58,  0.6 ,\n",
       "        0.62,  0.64,  0.66,  0.68,  0.7 ,  0.72,  0.74,  0.76,  0.78,\n",
       "        0.8 ,  0.82,  0.84,  0.86,  0.88,  0.9 ,  0.92,  0.94,  0.96,\n",
       "        0.98,  1.  ,  1.02,  1.04,  1.06,  1.08,  1.1 ,  1.12,  1.14,\n",
       "        1.16,  1.18,  1.2 ,  1.22,  1.24,  1.26,  1.28,  1.3 ,  1.32,\n",
       "        1.34,  1.36,  1.38,  1.4 ,  1.42,  1.44,  1.46,  1.48,  1.5 ,\n",
       "        1.52,  1.54,  1.56,  1.58,  1.6 ,  1.62,  1.64,  1.66,  1.68,\n",
       "        1.7 ,  1.72,  1.74,  1.76,  1.78,  1.8 ,  1.82,  1.84,  1.86,\n",
       "        1.88,  1.9 ,  1.92,  1.94,  1.96,  1.98,  2.  ,  2.02,  2.04,\n",
       "        2.06,  2.08,  2.1 ,  2.12,  2.14,  2.16,  2.18,  2.2 ,  2.22,\n",
       "        2.24,  2.26,  2.28,  2.3 ,  2.32,  2.34,  2.36,  2.38,  2.4 ,\n",
       "        2.42,  2.44,  2.46])"
      ]
     },
     "execution_count": 14,
     "metadata": {},
     "output_type": "execute_result"
    }
   ],
   "source": [
    "phc.z_grid()"
   ]
  },
  {
   "cell_type": "code",
   "execution_count": 18,
   "metadata": {},
   "outputs": [
    {
     "data": {
      "text/plain": [
       "(array([-1.  , -0.98, -0.96, -0.94, -0.92, -0.9 , -0.88, -0.86, -0.84,\n",
       "        -0.82, -0.8 , -0.78, -0.76, -0.74, -0.72, -0.7 , -0.68, -0.66,\n",
       "        -0.64, -0.62, -0.6 , -0.58, -0.56, -0.54, -0.52, -0.5 , -0.48,\n",
       "        -0.46, -0.44, -0.42, -0.4 , -0.38, -0.36, -0.34, -0.32, -0.3 ,\n",
       "        -0.28, -0.26, -0.24, -0.22, -0.2 , -0.18, -0.16, -0.14, -0.12,\n",
       "        -0.1 , -0.08, -0.06, -0.04, -0.02,  0.  ,  0.02,  0.04,  0.06,\n",
       "         0.08,  0.1 ,  0.12,  0.14,  0.16,  0.18,  0.2 ,  0.22,  0.24,\n",
       "         0.26,  0.28,  0.3 ,  0.32,  0.34,  0.36,  0.38,  0.4 ,  0.42,\n",
       "         0.44,  0.46,  0.48,  0.5 ,  0.52,  0.54,  0.56,  0.58,  0.6 ,\n",
       "         0.62,  0.64,  0.66,  0.68,  0.7 ,  0.72,  0.74,  0.76,  0.78,\n",
       "         0.8 ,  0.82,  0.84,  0.86,  0.88,  0.9 ,  0.92,  0.94,  0.96]),\n",
       " array([-1.  , -0.98, -0.96, -0.94, -0.92, -0.9 , -0.88, -0.86, -0.84,\n",
       "        -0.82, -0.8 , -0.78, -0.76, -0.74, -0.72, -0.7 , -0.68, -0.66,\n",
       "        -0.64, -0.62, -0.6 , -0.58, -0.56, -0.54, -0.52, -0.5 , -0.48,\n",
       "        -0.46, -0.44, -0.42, -0.4 , -0.38, -0.36, -0.34, -0.32, -0.3 ,\n",
       "        -0.28, -0.26, -0.24, -0.22, -0.2 , -0.18, -0.16, -0.14, -0.12,\n",
       "        -0.1 , -0.08, -0.06, -0.04, -0.02,  0.  ,  0.02,  0.04,  0.06,\n",
       "         0.08,  0.1 ,  0.12,  0.14,  0.16,  0.18,  0.2 ,  0.22,  0.24,\n",
       "         0.26,  0.28,  0.3 ,  0.32,  0.34,  0.36,  0.38,  0.4 ,  0.42,\n",
       "         0.44,  0.46,  0.48,  0.5 ,  0.52,  0.54,  0.56,  0.58,  0.6 ,\n",
       "         0.62,  0.64,  0.66,  0.68,  0.7 ,  0.72,  0.74,  0.76,  0.78,\n",
       "         0.8 ,  0.82,  0.84,  0.86,  0.88,  0.9 ,  0.92,  0.94,  0.96]))"
      ]
     },
     "execution_count": 18,
     "metadata": {},
     "output_type": "execute_result"
    }
   ],
   "source": [
    "phc.xy_grid()"
   ]
  },
  {
   "cell_type": "markdown",
   "metadata": {},
   "source": [
    "### after I changed phc.py"
   ]
  },
  {
   "cell_type": "code",
   "execution_count": 15,
   "metadata": {},
   "outputs": [
    {
     "data": {
      "text/plain": [
       "array([-1.0000000e+00, -9.8000000e-01, -9.6000000e-01, -9.4000000e-01,\n",
       "       -9.2000000e-01, -9.0000000e-01, -8.8000000e-01, -8.6000000e-01,\n",
       "       -8.4000000e-01, -8.2000000e-01, -8.0000000e-01, -7.8000000e-01,\n",
       "       -7.6000000e-01, -7.4000000e-01, -7.2000000e-01, -7.0000000e-01,\n",
       "       -6.8000000e-01, -6.6000000e-01, -6.4000000e-01, -6.2000000e-01,\n",
       "       -6.0000000e-01, -5.8000000e-01, -5.6000000e-01, -5.4000000e-01,\n",
       "       -5.2000000e-01, -5.0000000e-01, -4.8000000e-01, -4.6000000e-01,\n",
       "       -4.4000000e-01, -4.2000000e-01, -4.0000000e-01, -3.8000000e-01,\n",
       "       -3.6000000e-01, -3.4000000e-01, -3.2000000e-01, -3.0000000e-01,\n",
       "       -2.8000000e-01, -2.6000000e-01, -2.4000000e-01, -2.2000000e-01,\n",
       "       -2.0000000e-01, -1.8000000e-01, -1.6000000e-01, -1.4000000e-01,\n",
       "       -1.2000000e-01, -1.0000000e-01, -8.0000000e-02, -6.0000000e-02,\n",
       "       -4.0000000e-02, -2.0000000e-02,  8.8817842e-16,  2.0000000e-02,\n",
       "        4.0000000e-02,  6.0000000e-02,  8.0000000e-02,  1.0000000e-01,\n",
       "        1.2000000e-01,  1.4000000e-01,  1.6000000e-01,  1.8000000e-01,\n",
       "        2.0000000e-01,  2.2000000e-01,  2.4000000e-01,  2.6000000e-01,\n",
       "        2.8000000e-01,  3.0000000e-01,  3.2000000e-01,  3.4000000e-01,\n",
       "        3.6000000e-01,  3.8000000e-01,  4.0000000e-01,  4.2000000e-01,\n",
       "        4.4000000e-01,  4.6000000e-01,  4.8000000e-01,  5.0000000e-01,\n",
       "        5.2000000e-01,  5.4000000e-01,  5.6000000e-01,  5.8000000e-01,\n",
       "        6.0000000e-01,  6.2000000e-01,  6.4000000e-01,  6.6000000e-01,\n",
       "        6.8000000e-01,  7.0000000e-01,  7.2000000e-01,  7.4000000e-01,\n",
       "        7.6000000e-01,  7.8000000e-01,  8.0000000e-01,  8.2000000e-01,\n",
       "        8.4000000e-01,  8.6000000e-01,  8.8000000e-01,  9.0000000e-01,\n",
       "        9.2000000e-01,  9.4000000e-01,  9.6000000e-01,  9.8000000e-01,\n",
       "        1.0000000e+00,  1.0200000e+00,  1.0400000e+00,  1.0600000e+00,\n",
       "        1.0800000e+00,  1.1000000e+00,  1.1200000e+00,  1.1400000e+00,\n",
       "        1.1600000e+00,  1.1800000e+00,  1.2000000e+00,  1.2200000e+00,\n",
       "        1.2400000e+00,  1.2600000e+00,  1.2800000e+00,  1.3000000e+00,\n",
       "        1.3200000e+00,  1.3400000e+00,  1.3600000e+00,  1.3800000e+00,\n",
       "        1.4000000e+00,  1.4200000e+00,  1.4400000e+00,  1.4600000e+00,\n",
       "        1.4800000e+00,  1.5000000e+00,  1.5200000e+00,  1.5400000e+00,\n",
       "        1.5600000e+00,  1.5800000e+00,  1.6000000e+00,  1.6200000e+00,\n",
       "        1.6400000e+00,  1.6600000e+00,  1.6800000e+00,  1.7000000e+00,\n",
       "        1.7200000e+00,  1.7400000e+00,  1.7600000e+00,  1.7800000e+00,\n",
       "        1.8000000e+00,  1.8200000e+00,  1.8400000e+00,  1.8600000e+00,\n",
       "        1.8800000e+00,  1.9000000e+00,  1.9200000e+00,  1.9400000e+00,\n",
       "        1.9600000e+00,  1.9800000e+00,  2.0000000e+00,  2.0200000e+00,\n",
       "        2.0400000e+00,  2.0600000e+00,  2.0800000e+00,  2.1000000e+00,\n",
       "        2.1200000e+00,  2.1400000e+00,  2.1600000e+00,  2.1800000e+00,\n",
       "        2.2000000e+00,  2.2200000e+00,  2.2400000e+00,  2.2600000e+00,\n",
       "        2.2800000e+00,  2.3000000e+00,  2.3200000e+00,  2.3400000e+00,\n",
       "        2.3600000e+00,  2.3800000e+00,  2.4000000e+00,  2.4200000e+00,\n",
       "        2.4400000e+00,  2.4600000e+00,  2.4800000e+00])"
      ]
     },
     "execution_count": 15,
     "metadata": {},
     "output_type": "execute_result"
    }
   ],
   "source": [
    "## after I changed phc.py\n",
    "phc.z_grid()"
   ]
  },
  {
   "cell_type": "code",
   "execution_count": 17,
   "metadata": {},
   "outputs": [
    {
     "data": {
      "text/plain": [
       "(array([-1.0000000e+00, -9.8000000e-01, -9.6000000e-01, -9.4000000e-01,\n",
       "        -9.2000000e-01, -9.0000000e-01, -8.8000000e-01, -8.6000000e-01,\n",
       "        -8.4000000e-01, -8.2000000e-01, -8.0000000e-01, -7.8000000e-01,\n",
       "        -7.6000000e-01, -7.4000000e-01, -7.2000000e-01, -7.0000000e-01,\n",
       "        -6.8000000e-01, -6.6000000e-01, -6.4000000e-01, -6.2000000e-01,\n",
       "        -6.0000000e-01, -5.8000000e-01, -5.6000000e-01, -5.4000000e-01,\n",
       "        -5.2000000e-01, -5.0000000e-01, -4.8000000e-01, -4.6000000e-01,\n",
       "        -4.4000000e-01, -4.2000000e-01, -4.0000000e-01, -3.8000000e-01,\n",
       "        -3.6000000e-01, -3.4000000e-01, -3.2000000e-01, -3.0000000e-01,\n",
       "        -2.8000000e-01, -2.6000000e-01, -2.4000000e-01, -2.2000000e-01,\n",
       "        -2.0000000e-01, -1.8000000e-01, -1.6000000e-01, -1.4000000e-01,\n",
       "        -1.2000000e-01, -1.0000000e-01, -8.0000000e-02, -6.0000000e-02,\n",
       "        -4.0000000e-02, -2.0000000e-02,  8.8817842e-16,  2.0000000e-02,\n",
       "         4.0000000e-02,  6.0000000e-02,  8.0000000e-02,  1.0000000e-01,\n",
       "         1.2000000e-01,  1.4000000e-01,  1.6000000e-01,  1.8000000e-01,\n",
       "         2.0000000e-01,  2.2000000e-01,  2.4000000e-01,  2.6000000e-01,\n",
       "         2.8000000e-01,  3.0000000e-01,  3.2000000e-01,  3.4000000e-01,\n",
       "         3.6000000e-01,  3.8000000e-01,  4.0000000e-01,  4.2000000e-01,\n",
       "         4.4000000e-01,  4.6000000e-01,  4.8000000e-01,  5.0000000e-01,\n",
       "         5.2000000e-01,  5.4000000e-01,  5.6000000e-01,  5.8000000e-01,\n",
       "         6.0000000e-01,  6.2000000e-01,  6.4000000e-01,  6.6000000e-01,\n",
       "         6.8000000e-01,  7.0000000e-01,  7.2000000e-01,  7.4000000e-01,\n",
       "         7.6000000e-01,  7.8000000e-01,  8.0000000e-01,  8.2000000e-01,\n",
       "         8.4000000e-01,  8.6000000e-01,  8.8000000e-01,  9.0000000e-01,\n",
       "         9.2000000e-01,  9.4000000e-01,  9.6000000e-01,  9.8000000e-01]),\n",
       " array([-1.0000000e+00, -9.8000000e-01, -9.6000000e-01, -9.4000000e-01,\n",
       "        -9.2000000e-01, -9.0000000e-01, -8.8000000e-01, -8.6000000e-01,\n",
       "        -8.4000000e-01, -8.2000000e-01, -8.0000000e-01, -7.8000000e-01,\n",
       "        -7.6000000e-01, -7.4000000e-01, -7.2000000e-01, -7.0000000e-01,\n",
       "        -6.8000000e-01, -6.6000000e-01, -6.4000000e-01, -6.2000000e-01,\n",
       "        -6.0000000e-01, -5.8000000e-01, -5.6000000e-01, -5.4000000e-01,\n",
       "        -5.2000000e-01, -5.0000000e-01, -4.8000000e-01, -4.6000000e-01,\n",
       "        -4.4000000e-01, -4.2000000e-01, -4.0000000e-01, -3.8000000e-01,\n",
       "        -3.6000000e-01, -3.4000000e-01, -3.2000000e-01, -3.0000000e-01,\n",
       "        -2.8000000e-01, -2.6000000e-01, -2.4000000e-01, -2.2000000e-01,\n",
       "        -2.0000000e-01, -1.8000000e-01, -1.6000000e-01, -1.4000000e-01,\n",
       "        -1.2000000e-01, -1.0000000e-01, -8.0000000e-02, -6.0000000e-02,\n",
       "        -4.0000000e-02, -2.0000000e-02,  8.8817842e-16,  2.0000000e-02,\n",
       "         4.0000000e-02,  6.0000000e-02,  8.0000000e-02,  1.0000000e-01,\n",
       "         1.2000000e-01,  1.4000000e-01,  1.6000000e-01,  1.8000000e-01,\n",
       "         2.0000000e-01,  2.2000000e-01,  2.4000000e-01,  2.6000000e-01,\n",
       "         2.8000000e-01,  3.0000000e-01,  3.2000000e-01,  3.4000000e-01,\n",
       "         3.6000000e-01,  3.8000000e-01,  4.0000000e-01,  4.2000000e-01,\n",
       "         4.4000000e-01,  4.6000000e-01,  4.8000000e-01,  5.0000000e-01,\n",
       "         5.2000000e-01,  5.4000000e-01,  5.6000000e-01,  5.8000000e-01,\n",
       "         6.0000000e-01,  6.2000000e-01,  6.4000000e-01,  6.6000000e-01,\n",
       "         6.8000000e-01,  7.0000000e-01,  7.2000000e-01,  7.4000000e-01,\n",
       "         7.6000000e-01,  7.8000000e-01,  8.0000000e-01,  8.2000000e-01,\n",
       "         8.4000000e-01,  8.6000000e-01,  8.8000000e-01,  9.0000000e-01,\n",
       "         9.2000000e-01,  9.4000000e-01,  9.6000000e-01,  9.8000000e-01]))"
      ]
     },
     "execution_count": 17,
     "metadata": {},
     "output_type": "execute_result"
    }
   ],
   "source": [
    "phc.xy_grid()"
   ]
  },
  {
   "cell_type": "markdown",
   "metadata": {},
   "source": [
    "### Now implement gme.py"
   ]
  },
  {
   "cell_type": "code",
   "execution_count": 456,
   "metadata": {
    "scrolled": false
   },
   "outputs": [],
   "source": [
    "from IPython.core.interactiveshell import InteractiveShell\n",
    "InteractiveShell.ast_node_interactivity = \"all\"\n",
    "# import importlib,sys\n",
    "# importlib.reload(sys.modules['guided_modes'])\n",
    "import Utils.utils\n",
    "from core.guided_modes import *\n",
    "from scipy.optimize import bisect\n",
    "import matplotlib.pyplot as plt"
   ]
  },
  {
   "cell_type": "code",
   "execution_count": 35,
   "metadata": {},
   "outputs": [
    {
     "data": {
      "text/plain": [
       "1j"
      ]
     },
     "execution_count": 35,
     "metadata": {},
     "output_type": "execute_result"
    }
   ],
   "source": [
    "## note the +1j convention\n",
    "np.sqrt(-1,dtype=np.complex)"
   ]
  },
  {
   "cell_type": "code",
   "execution_count": 499,
   "metadata": {},
   "outputs": [],
   "source": [
    "### to help you understand some pythonic code"
   ]
  },
  {
   "cell_type": "code",
   "execution_count": 272,
   "metadata": {},
   "outputs": [
    {
     "name": "stdout",
     "output_type": "stream",
     "text": [
      "[[[1 2]\n",
      "  [3 4]]\n",
      "\n",
      " [[1 2]\n",
      "  [3 4]]]\n",
      "[[[1 2]\n",
      "  [3 4]]\n",
      "\n",
      " [[2 4]\n",
      "  [6 8]]]\n"
     ]
    }
   ],
   "source": [
    "aaa = np.array([1,1])\n",
    "bbb=2*aaa\n",
    "ccc=3*aaa\n",
    "ddd=4*aaa\n",
    "eee=np.array([1,2]).reshape(2,1,1)\n",
    "print(np.array([[aaa,bbb],[ccc,ddd]]).transpose([2,0,1]))\n",
    "print(eee*np.array([[aaa,bbb],[ccc,ddd]]).transpose([2,0,1]))"
   ]
  },
  {
   "cell_type": "markdown",
   "metadata": {},
   "source": [
    "### visualize what we need find root for"
   ]
  },
  {
   "cell_type": "code",
   "execution_count": 504,
   "metadata": {
    "scrolled": false
   },
   "outputs": [
    {
     "data": {
      "text/plain": [
       "<Figure size 576x576 with 0 Axes>"
      ]
     },
     "execution_count": 504,
     "metadata": {},
     "output_type": "execute_result"
    },
    {
     "data": {
      "text/plain": [
       "Text(0.5, 1.0, '$D_{22}$ vs $\\\\omega$')"
      ]
     },
     "execution_count": 504,
     "metadata": {},
     "output_type": "execute_result"
    },
    {
     "data": {
      "text/plain": [
       "<matplotlib.axes._subplots.AxesSubplot at 0x129f55828>"
      ]
     },
     "execution_count": 504,
     "metadata": {},
     "output_type": "execute_result"
    },
    {
     "data": {
      "text/plain": [
       "[<matplotlib.lines.Line2D at 0x129f55a90>]"
      ]
     },
     "execution_count": 504,
     "metadata": {},
     "output_type": "execute_result"
    },
    {
     "data": {
      "text/plain": [
       "<matplotlib.axes._subplots.AxesSubplot at 0x12a08fd68>"
      ]
     },
     "execution_count": 504,
     "metadata": {},
     "output_type": "execute_result"
    },
    {
     "data": {
      "text/plain": [
       "[<matplotlib.lines.Line2D at 0x12a08fa58>]"
      ]
     },
     "execution_count": 504,
     "metadata": {},
     "output_type": "execute_result"
    },
    {
     "data": {
      "text/plain": [
       "(-10, 10)"
      ]
     },
     "execution_count": 504,
     "metadata": {},
     "output_type": "execute_result"
    },
    {
     "data": {
      "text/plain": [
       "<matplotlib.axes._subplots.AxesSubplot at 0x12a0bf550>"
      ]
     },
     "execution_count": 504,
     "metadata": {},
     "output_type": "execute_result"
    },
    {
     "data": {
      "text/plain": [
       "Text(0.5, 1.0, 'imag')"
      ]
     },
     "execution_count": 504,
     "metadata": {},
     "output_type": "execute_result"
    },
    {
     "data": {
      "text/plain": [
       "[<matplotlib.lines.Line2D at 0x12a0d84e0>]"
      ]
     },
     "execution_count": 504,
     "metadata": {},
     "output_type": "execute_result"
    },
    {
     "data": {
      "text/plain": [
       "<matplotlib.axes._subplots.AxesSubplot at 0x12a0e9ef0>"
      ]
     },
     "execution_count": 504,
     "metadata": {},
     "output_type": "execute_result"
    },
    {
     "data": {
      "text/plain": [
       "Text(0.5, 1.0, 'abs')"
      ]
     },
     "execution_count": 504,
     "metadata": {},
     "output_type": "execute_result"
    },
    {
     "data": {
      "text/plain": [
       "[<matplotlib.lines.Line2D at 0x12a0d8fd0>]"
      ]
     },
     "execution_count": 504,
     "metadata": {},
     "output_type": "execute_result"
    },
    {
     "data": {
      "text/plain": [
       "<matplotlib.axes._subplots.AxesSubplot at 0x12a100e80>"
      ]
     },
     "execution_count": 504,
     "metadata": {},
     "output_type": "execute_result"
    },
    {
     "data": {
      "text/plain": [
       "[<matplotlib.lines.Line2D at 0x12a1186a0>]"
      ]
     },
     "execution_count": 504,
     "metadata": {},
     "output_type": "execute_result"
    },
    {
     "data": {
      "text/plain": [
       "(-10, 10)"
      ]
     },
     "execution_count": 504,
     "metadata": {},
     "output_type": "execute_result"
    },
    {
     "data": {
      "image/png": "[encoded data removed]",
      "text/plain": [
       "<Figure size 576x576 with 5 Axes>"
      ]
     },
     "metadata": {
      "needs_background": "light"
     },
     "output_type": "display_data"
    }
   ],
   "source": [
    "gs=np.array([10,10,10])\n",
    "epses=np.array([1,2,1])\n",
    "ds=np.array([1])\n",
    "omegas=np.linspace(0,20,3000)\n",
    "D22s=np.array([D22_TE(w,gs,epses,ds) for w in omegas])\n",
    "plt.figure(figsize=[8,8])\n",
    "plt.title(r'$D_{22}$ vs $\\omega$')\n",
    "plt.subplot(321)\n",
    "plt.plot(omegas,D22s)\n",
    "plt.subplot(322)\n",
    "plt.plot(omegas,D22s)\n",
    "plt.ylim([-10, 10])\n",
    "plt.subplot(323)\n",
    "plt.title('imag')\n",
    "plt.plot(omegas,D22s.imag)\n",
    "plt.subplot(325)\n",
    "plt.title('abs')\n",
    "plt.plot(omegas,np.abs(D22s))\n",
    "plt.subplot(326)\n",
    "plt.plot(omegas,np.abs(D22s))\n",
    "plt.ylim([-10,10])\n",
    "plt.show()"
   ]
  },
  {
   "cell_type": "code",
   "execution_count": 505,
   "metadata": {},
   "outputs": [
    {
     "data": {
      "text/plain": [
       "<Figure size 576x576 with 0 Axes>"
      ]
     },
     "execution_count": 505,
     "metadata": {},
     "output_type": "execute_result"
    },
    {
     "data": {
      "text/plain": [
       "Text(0.5, 1.0, '$D_{22}$ vs $\\\\omega$')"
      ]
     },
     "execution_count": 505,
     "metadata": {},
     "output_type": "execute_result"
    },
    {
     "data": {
      "text/plain": [
       "<matplotlib.axes._subplots.AxesSubplot at 0x12a1c7630>"
      ]
     },
     "execution_count": 505,
     "metadata": {},
     "output_type": "execute_result"
    },
    {
     "data": {
      "text/plain": [
       "[<matplotlib.lines.Line2D at 0x12a1c7860>]"
      ]
     },
     "execution_count": 505,
     "metadata": {},
     "output_type": "execute_result"
    },
    {
     "data": {
      "text/plain": [
       "<matplotlib.axes._subplots.AxesSubplot at 0x12a1f4dd8>"
      ]
     },
     "execution_count": 505,
     "metadata": {},
     "output_type": "execute_result"
    },
    {
     "data": {
      "text/plain": [
       "[<matplotlib.lines.Line2D at 0x12a241160>]"
      ]
     },
     "execution_count": 505,
     "metadata": {},
     "output_type": "execute_result"
    },
    {
     "data": {
      "text/plain": [
       "(-10, 10)"
      ]
     },
     "execution_count": 505,
     "metadata": {},
     "output_type": "execute_result"
    },
    {
     "data": {
      "text/plain": [
       "<matplotlib.axes._subplots.AxesSubplot at 0x12abafc18>"
      ]
     },
     "execution_count": 505,
     "metadata": {},
     "output_type": "execute_result"
    },
    {
     "data": {
      "text/plain": [
       "Text(0.5, 1.0, 'imag')"
      ]
     },
     "execution_count": 505,
     "metadata": {},
     "output_type": "execute_result"
    },
    {
     "data": {
      "text/plain": [
       "[<matplotlib.lines.Line2D at 0x12abdf208>]"
      ]
     },
     "execution_count": 505,
     "metadata": {},
     "output_type": "execute_result"
    },
    {
     "data": {
      "text/plain": [
       "<matplotlib.axes._subplots.AxesSubplot at 0x12abc8b38>"
      ]
     },
     "execution_count": 505,
     "metadata": {},
     "output_type": "execute_result"
    },
    {
     "data": {
      "text/plain": [
       "Text(0.5, 1.0, 'abs')"
      ]
     },
     "execution_count": 505,
     "metadata": {},
     "output_type": "execute_result"
    },
    {
     "data": {
      "text/plain": [
       "[<matplotlib.lines.Line2D at 0x12ade6a90>]"
      ]
     },
     "execution_count": 505,
     "metadata": {},
     "output_type": "execute_result"
    },
    {
     "data": {
      "text/plain": [
       "<matplotlib.axes._subplots.AxesSubplot at 0x12abdf518>"
      ]
     },
     "execution_count": 505,
     "metadata": {},
     "output_type": "execute_result"
    },
    {
     "data": {
      "text/plain": [
       "[<matplotlib.lines.Line2D at 0x12ade6cf8>]"
      ]
     },
     "execution_count": 505,
     "metadata": {},
     "output_type": "execute_result"
    },
    {
     "data": {
      "text/plain": [
       "(-10, 10)"
      ]
     },
     "execution_count": 505,
     "metadata": {},
     "output_type": "execute_result"
    },
    {
     "data": {
      "image/png": "[encoded data removed]",
      "text/plain": [
       "<Figure size 576x576 with 5 Axes>"
      ]
     },
     "metadata": {
      "needs_background": "light"
     },
     "output_type": "display_data"
    }
   ],
   "source": [
    "gs=np.array([10,10,10])\n",
    "epses=np.array([1,22,1])\n",
    "ds=np.array([1])\n",
    "omegas=np.linspace(0,20,10000)\n",
    "D22s=np.array([D22_TM(w,gs,epses,ds) for w in omegas])\n",
    "plt.figure(figsize=[8,8])\n",
    "plt.title(r'$D_{22}$ vs $\\omega$')\n",
    "plt.subplot(321)\n",
    "plt.plot(omegas,D22s)\n",
    "plt.subplot(322)\n",
    "plt.plot(omegas,D22s)\n",
    "plt.ylim([-10, 10])\n",
    "plt.subplot(323)\n",
    "plt.title('imag')\n",
    "plt.plot(omegas,D22s.imag)\n",
    "plt.subplot(325)\n",
    "plt.title('abs')\n",
    "plt.plot(omegas,np.abs(D22s))\n",
    "plt.subplot(326)\n",
    "plt.plot(omegas,np.abs(D22s))\n",
    "plt.ylim([-10,10])\n",
    "plt.show()"
   ]
  },
  {
   "cell_type": "markdown",
   "metadata": {},
   "source": [
    "### multilayer testing\n",
    "limit omegas by epses.max means the wavevector corresponds to guided mode in ***all layers*** rather than ***at least one layer***. D22 should be purely real if guided mode exists in ***all layers***."
   ]
  },
  {
   "cell_type": "code",
   "execution_count": 481,
   "metadata": {},
   "outputs": [
    {
     "data": {
      "text/plain": [
       "[<matplotlib.lines.Line2D at 0x12935b908>]"
      ]
     },
     "execution_count": 481,
     "metadata": {},
     "output_type": "execute_result"
    },
    {
     "data": {
      "text/plain": [
       "(-100, 100)"
      ]
     },
     "execution_count": 481,
     "metadata": {},
     "output_type": "execute_result"
    },
    {
     "data": {
      "image/png": "[encoded data removed]",
      "text/plain": [
       "<Figure size 432x288 with 1 Axes>"
      ]
     },
     "metadata": {
      "needs_background": "light"
     },
     "output_type": "display_data"
    }
   ],
   "source": [
    "gs=np.array([10,10,10,10])\n",
    "epses=np.array([1,20,3,1])\n",
    "ds=np.array([3,5])\n",
    "omegas=np.linspace(gs[0]/np.sqrt(epses[1:-1].max())+1e-3,9.99,20000)\n",
    "# omegas=np.linspace(gs[0]/np.sqrt(epses[1:-1].min()),9.99,20000)\n",
    "# print([D22_TE(w,gs,epses,ds) for w in omegas])\n",
    "plt.plot([D22_TM(w,gs,epses,ds).imag for w in omegas])\n",
    "plt.ylim([-100,100])"
   ]
  },
  {
   "cell_type": "code",
   "execution_count": 472,
   "metadata": {},
   "outputs": [
    {
     "data": {
      "text/plain": [
       "[<matplotlib.lines.Line2D at 0x126dbb860>]"
      ]
     },
     "execution_count": 472,
     "metadata": {},
     "output_type": "execute_result"
    },
    {
     "data": {
      "text/plain": [
       "(-100, 100)"
      ]
     },
     "execution_count": 472,
     "metadata": {},
     "output_type": "execute_result"
    },
    {
     "data": {
      "image/png": "[encoded data removed]",
      "text/plain": [
       "<Figure size 432x288 with 1 Axes>"
      ]
     },
     "metadata": {
      "needs_background": "light"
     },
     "output_type": "display_data"
    }
   ],
   "source": [
    "gs=np.array([10,10,10,10])\n",
    "epses=np.array([1,20,3,1])\n",
    "ds=np.array([3,5])\n",
    "omegas=np.linspace(gs[0]/np.sqrt(epses[1:-1].max())+1e-3,9.99,20000)\n",
    "# omegas=np.linspace(gs[0]/np.sqrt(epses[1:-1].min()),9.99,20000)\n",
    "# print([D22_TE(w,gs,epses,ds) for w in omegas])\n",
    "plt.plot([D22_TE(w,gs,epses,ds).imag for w in omegas])\n",
    "plt.ylim([-100,100])"
   ]
  },
  {
   "cell_type": "code",
   "execution_count": 251,
   "metadata": {},
   "outputs": [
    {
     "name": "stdout",
     "output_type": "stream",
     "text": [
      "num of intervals to search: 787\n",
      "solution for real [2.1532109049489234, 2.3173868106087148, 2.62080187035402, 3.0280680398098445, 3.5071981178750438, 4.03466961464752, 4.594649870022193, 5.176714361951667, 5.77387995655552, 6.381235775518184, 6.994997281328717, 7.611720464491679, 8.227279117490546, 8.834503091283976, 9.414296832991653, 9.886046732497748]\n",
      "9.024688552017324e-08 5593.3769379258\n",
      "-3.917136837117141e-09 -467.3532702890938\n",
      "-2.7618227704806486e-09 80.031398544482\n",
      "9.862901606538799e-10 8.918714185392602\n",
      "2.7044677608500933e-10 -34.400125299088195\n",
      "5.304485739543452e-10 40.71662762182702\n",
      "2.2309976088763506e-10 -40.37515577264986\n",
      "1.4580159302113316e-10 37.627372525355874\n",
      "-9.311573734294143e-11 -34.064196479094214\n",
      "-1.2392531445470922e-10 30.30326763045304\n",
      "-1.5805834419069242e-10 -26.57466061419506\n",
      "7.172484828288361e-12 22.94363426125144\n",
      "1.0697842611762098e-10 -19.401607634552434\n",
      "1.3025136524902337e-11 15.915435579217188\n",
      "1.5235812611535948e-11 -12.558961093113371\n",
      "5.544897874187882e-12 11.52329605383646\n",
      "solution for imag [2.255302755910945, 2.582386508182658, 3.037023546082458, 3.564391282360549, 4.133864744297696, 4.728843464983149, 5.339909846688597, 5.961318022565879, 6.589196759130755, 7.22050251932948, 7.852149780077316, 8.479637948818413, 9.092988467662492, 9.657022747582639]\n",
      "795.8390889901245 -9.726932148623746e-09\n",
      "-98.68632998208558 6.701839083689265e-11\n",
      "-9.794642791844339 4.4298076318227686e-10\n",
      "35.705338979979715 3.956657224080118e-10\n",
      "-40.96562031396057 -1.701252472230408e-10\n",
      "39.86562274404215 -7.478107022507174e-11\n",
      "-36.69043393614707 -9.844569603956188e-11\n",
      "32.903575623986086 1.716333741796916e-10\n",
      "-29.0274724926113 9.568346115429449e-11\n",
      "25.234157697255203 6.654410356077278e-11\n",
      "-21.55382051468573 3.394973191461759e-11\n",
      "17.956754213869868 4.079492299524645e-11\n",
      "-14.41567792306781 -3.170885776171417e-11\n",
      "11.306477872295986 -2.5852209262211545e-11\n",
      "final solution []\n"
     ]
    },
    {
     "data": {
      "text/plain": [
       "[]"
      ]
     },
     "execution_count": 251,
     "metadata": {},
     "output_type": "execute_result"
    }
   ],
   "source": [
    "guided_mode_given_g(gs[0],epses,ds)"
   ]
  },
  {
   "cell_type": "code",
   "execution_count": null,
   "metadata": {},
   "outputs": [],
   "source": [
    "omega_lb = g/np.sqrt(eps_array[1:-1].min())\n",
    "omega_ub = g/max(eps_array[0],eps_array[-1])"
   ]
  },
  {
   "cell_type": "markdown",
   "metadata": {},
   "source": [
    "### Demonstrating TE and TM modes"
   ]
  },
  {
   "cell_type": "code",
   "execution_count": 468,
   "metadata": {},
   "outputs": [
    {
     "data": {
      "text/plain": [
       "[<matplotlib.lines.Line2D at 0x1269a2c50>]"
      ]
     },
     "execution_count": 468,
     "metadata": {},
     "output_type": "execute_result"
    },
    {
     "data": {
      "text/plain": [
       "[<matplotlib.lines.Line2D at 0x1268f20b8>]"
      ]
     },
     "execution_count": 468,
     "metadata": {},
     "output_type": "execute_result"
    },
    {
     "data": {
      "text/plain": [
       "[<matplotlib.lines.Line2D at 0x1268f2198>]"
      ]
     },
     "execution_count": 468,
     "metadata": {},
     "output_type": "execute_result"
    },
    {
     "data": {
      "text/plain": [
       "[<matplotlib.lines.Line2D at 0x1268f25c0>]"
      ]
     },
     "execution_count": 468,
     "metadata": {},
     "output_type": "execute_result"
    },
    {
     "data": {
      "image/png": "[encoded data removed]",
      "text/plain": [
       "<Figure size 432x288 with 1 Axes>"
      ]
     },
     "metadata": {
      "needs_background": "light"
     },
     "output_type": "display_data"
    }
   ],
   "source": [
    "gs=np.linspace(1,100,100)\n",
    "epses=np.array([1,12,1])\n",
    "ds=np.array([0.1])\n",
    "omegas = guided_modes(gs,epses,ds, step=1e-1/np.sqrt(epses.max()), n_modes=4)\n",
    "from itertools import zip_longest\n",
    "omegasT = [list(filter(None,i)) for i in zip_longest(*omegas)]\n",
    "for w in omegasT:\n",
    "    plt.plot(gs[-len(w):],w,'.')\n",
    "plt.show()"
   ]
  },
  {
   "cell_type": "code",
   "execution_count": 482,
   "metadata": {},
   "outputs": [
    {
     "data": {
      "text/plain": [
       "[<matplotlib.lines.Line2D at 0x129420be0>]"
      ]
     },
     "execution_count": 482,
     "metadata": {},
     "output_type": "execute_result"
    },
    {
     "data": {
      "text/plain": [
       "[<matplotlib.lines.Line2D at 0x129420f60>]"
      ]
     },
     "execution_count": 482,
     "metadata": {},
     "output_type": "execute_result"
    },
    {
     "data": {
      "text/plain": [
       "[<matplotlib.lines.Line2D at 0x12942b128>]"
      ]
     },
     "execution_count": 482,
     "metadata": {},
     "output_type": "execute_result"
    },
    {
     "data": {
      "text/plain": [
       "[<matplotlib.lines.Line2D at 0x12942b7b8>]"
      ]
     },
     "execution_count": 482,
     "metadata": {},
     "output_type": "execute_result"
    },
    {
     "data": {
      "image/png": "[encoded data removed]",
      "text/plain": [
       "<Figure size 432x288 with 1 Axes>"
      ]
     },
     "metadata": {
      "needs_background": "light"
     },
     "output_type": "display_data"
    }
   ],
   "source": [
    "gs=np.linspace(1,100,100)\n",
    "epses=np.array([1,12,1])\n",
    "ds=np.array([0.1])\n",
    "omegas = guided_modes(gs,epses,ds, step=1e-1/np.sqrt(epses.max()), n_modes=4, mode='TM')\n",
    "from itertools import zip_longest\n",
    "omegasT = [list(filter(None,i)) for i in zip_longest(*omegas)]\n",
    "for w in omegasT:\n",
    "    plt.plot(gs[-len(w):],w,'.')\n",
    "plt.show()"
   ]
  },
  {
   "cell_type": "code",
   "execution_count": 498,
   "metadata": {},
   "outputs": [
    {
     "data": {
      "text/plain": [
       "<Figure size 576x576 with 0 Axes>"
      ]
     },
     "execution_count": 498,
     "metadata": {},
     "output_type": "execute_result"
    },
    {
     "data": {
      "text/plain": [
       "[<matplotlib.lines.Line2D at 0x1278baf60>]"
      ]
     },
     "execution_count": 498,
     "metadata": {},
     "output_type": "execute_result"
    },
    {
     "data": {
      "text/plain": [
       "[<matplotlib.lines.Line2D at 0x1278bada0>]"
      ]
     },
     "execution_count": 498,
     "metadata": {},
     "output_type": "execute_result"
    },
    {
     "data": {
      "text/plain": [
       "[<matplotlib.lines.Line2D at 0x12788f400>]"
      ]
     },
     "execution_count": 498,
     "metadata": {},
     "output_type": "execute_result"
    },
    {
     "data": {
      "text/plain": [
       "[<matplotlib.lines.Line2D at 0x12788f9e8>]"
      ]
     },
     "execution_count": 498,
     "metadata": {},
     "output_type": "execute_result"
    },
    {
     "data": {
      "image/png": "[encoded data removed]",
      "text/plain": [
       "<Figure size 576x576 with 1 Axes>"
      ]
     },
     "metadata": {
      "needs_background": "light"
     },
     "output_type": "display_data"
    }
   ],
   "source": [
    "plt.figure(figsize=[8,8])\n",
    "for w in omegasT:\n",
    "    plt.plot(gs[-len(w):],w,'.', markersize=1.5)\n",
    "plt.show()"
   ]
  },
  {
   "cell_type": "code",
   "execution_count": 469,
   "metadata": {},
   "outputs": [
    {
     "data": {
      "text/plain": [
       "<Figure size 576x576 with 0 Axes>"
      ]
     },
     "execution_count": 469,
     "metadata": {},
     "output_type": "execute_result"
    },
    {
     "data": {
      "text/plain": [
       "[<matplotlib.lines.Line2D at 0x126aa66a0>]"
      ]
     },
     "execution_count": 469,
     "metadata": {},
     "output_type": "execute_result"
    },
    {
     "data": {
      "text/plain": [
       "[<matplotlib.lines.Line2D at 0x1268f2908>]"
      ]
     },
     "execution_count": 469,
     "metadata": {},
     "output_type": "execute_result"
    },
    {
     "data": {
      "text/plain": [
       "[<matplotlib.lines.Line2D at 0x126aa6c18>]"
      ]
     },
     "execution_count": 469,
     "metadata": {},
     "output_type": "execute_result"
    },
    {
     "data": {
      "text/plain": [
       "[<matplotlib.lines.Line2D at 0x126aa6b00>]"
      ]
     },
     "execution_count": 469,
     "metadata": {},
     "output_type": "execute_result"
    },
    {
     "data": {
      "image/png": "[encoded data removed]",
      "text/plain": [
       "<Figure size 576x576 with 1 Axes>"
      ]
     },
     "metadata": {
      "needs_background": "light"
     },
     "output_type": "display_data"
    }
   ],
   "source": [
    "plt.figure(figsize=[8,8])\n",
    "for w in omegasT:\n",
    "    plt.plot(gs[-len(w):],w,'.',markersize=1.5)\n",
    "plt.show()"
   ]
  },
  {
   "cell_type": "code",
   "execution_count": 465,
   "metadata": {},
   "outputs": [
    {
     "data": {
      "text/plain": [
       "[<matplotlib.lines.Line2D at 0x1257550f0>]"
      ]
     },
     "execution_count": 465,
     "metadata": {},
     "output_type": "execute_result"
    },
    {
     "data": {
      "text/plain": [
       "[<matplotlib.lines.Line2D at 0x125755518>]"
      ]
     },
     "execution_count": 465,
     "metadata": {},
     "output_type": "execute_result"
    },
    {
     "data": {
      "text/plain": [
       "[<matplotlib.lines.Line2D at 0x1257555f8>]"
      ]
     },
     "execution_count": 465,
     "metadata": {},
     "output_type": "execute_result"
    },
    {
     "data": {
      "text/plain": [
       "[<matplotlib.lines.Line2D at 0x125755c18>]"
      ]
     },
     "execution_count": 465,
     "metadata": {},
     "output_type": "execute_result"
    },
    {
     "data": {
      "image/png": "[encoded data removed]",
      "text/plain": [
       "<Figure size 432x288 with 1 Axes>"
      ]
     },
     "metadata": {
      "needs_background": "light"
     },
     "output_type": "display_data"
    }
   ],
   "source": [
    "gs=np.linspace(1,500,50)\n",
    "epses=np.array([1,12,1])\n",
    "ds=np.array([0.1])\n",
    "omegas = guided_modes(gs,epses,ds, step=1e-1/np.sqrt(epses.max()), n_modes=4)\n",
    "from itertools import zip_longest\n",
    "omegasT = [list(filter(None,i)) for i in zip_longest(*omegas)]\n",
    "for w in omegasT:\n",
    "    plt.plot(gs[-len(w):],w,'.',markersize=1.5)\n",
    "plt.show()\n",
    "\n"
   ]
  }
 ],
 "metadata": {
  "kernelspec": {
   "display_name": "Python36",
   "language": "python",
   "name": "ipykernel_py36"
  },
  "language_info": {
   "codemirror_mode": {
    "name": "ipython",
    "version": 3
   },
   "file_extension": ".py",
   "mimetype": "text/x-python",
   "name": "python",
   "nbconvert_exporter": "python",
   "pygments_lexer": "ipython3",
   "version": "3.6.8"
  }
 },
 "nbformat": 4,
 "nbformat_minor": 2
}
