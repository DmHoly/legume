{
 "cells": [
  {
   "cell_type": "markdown",
   "metadata": {},
   "source": [
    "# Improving GME gradient computation efficiency"
   ]
  },
  {
   "cell_type": "code",
   "execution_count": 39,
   "metadata": {},
   "outputs": [
    {
     "name": "stdout",
     "output_type": "stream",
     "text": [
      "The autoreload extension is already loaded. To reload it, use:\n",
      "  %reload_ext autoreload\n"
     ]
    }
   ],
   "source": [
    "import numpy as np\n",
    "import matplotlib.pyplot as plt\n",
    "import time\n",
    "\n",
    "import autograd.numpy as npa\n",
    "from autograd import grad, value_and_grad\n",
    "\n",
    "import legume\n",
    "from legume.minimize import Minimize\n",
    "\n",
    "%load_ext autoreload\n",
    "%autoreload 2"
   ]
  },
  {
   "cell_type": "markdown",
   "metadata": {},
   "source": [
    "## PhC cavity simulation\n",
    "\n",
    "We will look at the exact same optimization as in Notebook 6 and see how it can be improved both in terms of accuracy and in terms of computational time and memory. We first define the cavity that we will simulate."
   ]
  },
  {
   "cell_type": "code",
   "execution_count": 40,
   "metadata": {},
   "outputs": [],
   "source": [
    "# Number of PhC periods in x and y directions\n",
    "Nx, Ny = 16, 10\n",
    "\n",
    "# Regular PhC parameters\n",
    "ra = 0.234\n",
    "dslab = 0.4355\n",
    "n_slab = 2.21\n",
    "\n",
    "# Initialize a lattice and PhC\n",
    "lattice = legume.Lattice([Nx, 0], [0, Ny*np.sqrt(3)/2])\n",
    "\n",
    "# Make x and y positions in one quadrant of the supercell\n",
    "# We only initialize one quadrant because we want to shift the holes symmetrically\n",
    "xp, yp = [], []\n",
    "nx, ny = Nx//2 + 1, Ny//2 + 1\n",
    "for iy in range(ny):\n",
    "    for ix in range(nx):\n",
    "        xp.append(ix + (iy%2)*0.5)\n",
    "        yp.append(iy*np.sqrt(3)/2)\n",
    "\n",
    "# Move the first two holes to create the L4/3 defect\n",
    "xp[0] = 2/5\n",
    "xp[1] = 6/5 \n",
    "nc = len(xp)\n",
    "\n",
    "# Initialize shift parameters to zeros\n",
    "dx, dy = np.zeros((nc,)), np.zeros((nc,))"
   ]
  },
  {
   "cell_type": "code",
   "execution_count": 41,
   "metadata": {},
   "outputs": [],
   "source": [
    "# Define L4/3 PhC cavity with shifted holes\n",
    "def cavity(dx, dy):\n",
    "    # Initialize PhC\n",
    "    phc = legume.PhotCryst(lattice)\n",
    "    \n",
    "    # Add a layer to the PhC \n",
    "    phc.add_layer(d=dslab, eps_b=n_slab**2)\n",
    "    \n",
    "    # Apply holes symmetrically in the four quadrants\n",
    "    for ic, x in enumerate(xp):\n",
    "        yc = yp[ic] if yp[ic] == 0 else yp[ic] + dy[ic]\n",
    "        xc = x if x == 0 else xp[ic] + dx[ic]\n",
    "        phc.add_shape(legume.Circle(x_cent=xc, y_cent=yc, r=ra))\n",
    "        if nx-0.6 > xp[ic] > 0 and (ny-1.1)*np.sqrt(3)/2 > yp[ic] > 0:\n",
    "            phc.add_shape(legume.Circle(x_cent=-xc, y_cent=-yc, r=ra))\n",
    "        if nx-1.6 > xp[ic] > 0:\n",
    "            phc.add_shape(legume.Circle(x_cent=-xc, y_cent=yc, r=ra))\n",
    "        if (ny-1.1)*np.sqrt(3)/2 > yp[ic] > 0 and nx-1.1 > xp[ic]:\n",
    "            phc.add_shape(legume.Circle(x_cent=xc, y_cent=-yc, r=ra))\n",
    "            \n",
    "    return phc"
   ]
  },
  {
   "cell_type": "markdown",
   "metadata": {},
   "source": [
    "In Notebook 6, we used a relatively fast optimization for illustration purposes. In the `legume` paper, we use `gmax = 2.5`, as well as a 3x3 $k$-grid in the Brillouin zone, and average the loss rates. This improves the accuracy of the result, especially when going to ultra-high-$Q$ values. However, it also takes a longer time to compute, and significantly more memory if done directly, because all the variables, including all the dense matrices and all the eigenvectors at every $k$ are stored for the backpropagation. Below we will see how we can introduce some improvements.\n",
    "\n",
    "Below, we define a new GME computation function, with two main differences from Notebook 6. Firstly, we compute the loss rates on a grid of $k$-points. Second, instead of taking the `Nx*Ny` eigenmode as the cavity mode, we look for the first eigenfrequency above 0.41 (first mode in the band gap). The reason for this will become clear below."
   ]
  },
  {
   "cell_type": "code",
   "execution_count": 46,
   "metadata": {},
   "outputs": [],
   "source": [
    "def gme_cavity_k(params, gmax, options, kpoints, f_lb=0.41):\n",
    "    dx = params[0:nc]\n",
    "    dy = params[nc:]\n",
    "    phc = cavity(dx, dy)\n",
    "    options['compute_im'] = False\n",
    "    gme = legume.GuidedModeExp(phc, gmax=gmax)\n",
    "    gme.run(kpoints=kpoints, **options)\n",
    "    indmode = npa.nonzero(gme.freqs[0, :] > f_lb)[0][0]\n",
    "    fims = []\n",
    "    for ik in range(kpoints[0, :].size):\n",
    "        (freq_im, _, _) = gme.compute_rad(ik, [indmode])\n",
    "        fims.append(freq_im)\n",
    "    return (gme, npa.array(fims), indmode)"
   ]
  },
  {
   "cell_type": "markdown",
   "metadata": {},
   "source": [
    "## Accuracy of forward computation\n",
    "We can now compute the averaged $Q$ in a straightforward way. Note that it's better to average the loss rates and only then compute the $Q$, rather than average the $Q$-s. "
   ]
  },
  {
   "cell_type": "code",
   "execution_count": 49,
   "metadata": {},
   "outputs": [
    {
     "name": "stdout",
     "output_type": "stream",
     "text": [
      "[0.41872192] [[3.24380871e-05]]\n",
      "Quality factor computed using k=[0,0]: 6454.17\n",
      "[0.41872192 0.42720883 0.42775149 0.41854415 0.4277026  0.4292372\n",
      " 0.43178911 0.43219462 0.41866084] [[3.24380871e-05]\n",
      " [2.42209237e-06]\n",
      " [1.07073795e-06]\n",
      " [3.18673397e-05]\n",
      " [1.82460426e-06]\n",
      " [1.25038284e-06]\n",
      " [9.24534102e-07]\n",
      " [1.06510447e-06]\n",
      " [3.50534814e-05]]\n",
      "Quality factor averaged over 9 k-points: 17460.27\n"
     ]
    }
   ],
   "source": [
    "pstart = np.zeros((2*nc, ))\n",
    "\n",
    "def Q_kavg(params):\n",
    "    (gme, fims, indmode) = gme_cavity_k(params, gmax, options, np.vstack((kxg, kyg)))\n",
    "    print(gme.freqs[:, indmode], fims)\n",
    "    # Note that the real part of the freq doesn't change much so we can just take ik=0 below\n",
    "    return gme.freqs[0, indmode]/2/npa.mean(fims)\n",
    "\n",
    "# First compute the Q at k = [0, 0] like we did in Notebook 6\n",
    "kxg = np.array([0])\n",
    "kyg = np.array([0])\n",
    "print(\"Quality factor computed using k=[0,0]: %1.2f\" %Q_kavg(pstart))\n",
    "\n",
    "# Create an nkx x nky grid in k space (positive kx, ky only)\n",
    "nkx = 3\n",
    "nky = 3\n",
    "kx = np.linspace(0, np.pi/Nx, nkx)\n",
    "ky = np.linspace(0, np.pi/Ny/np.sqrt(3)*2, nky)\n",
    "kxg, kyg = np.meshgrid(kx, ky)\n",
    "kxg = kxg.ravel()\n",
    "kyg = kyg.ravel()\n",
    "\n",
    "print(\"Quality factor averaged over %d k-points: %1.2f\" %(nkx*nky, Q_kavg(pstart)))"
   ]
  },
  {
   "cell_type": "markdown",
   "metadata": {},
   "source": [
    "This $Q$-value is three times smaller than what we got above, and is likely closer to the true quality factor. For a converged optimization, it's typically good to average over a small grid in $k$-space as shown here. To use this in an optimization, we can already use `Q_kavg` as an objective function, but, like mentioned above, this will require a lot of memory - specifically, about 9 times more than the original optimization at a single $k$-point. Here is how this can be overcome at a small cost of computational time."
   ]
  },
  {
   "cell_type": "code",
   "execution_count": 20,
   "metadata": {},
   "outputs": [
    {
     "name": "stdout",
     "output_type": "stream",
     "text": [
      "Autograd gradient:  269.5663, computed in 22.0130s\n"
     ]
    }
   ],
   "source": [
    "# We set gmax=1 for this example to avoid memory issues\n",
    "gmax = 1\n",
    "\n",
    "# Objective function defining the average imaginary part\n",
    "def fim_kavg(params):\n",
    "    (gme, fims) = gme_cavity_k(params, gmax, options, np.vstack((kxg, kyg)))\n",
    "    # Scale for easier printing\n",
    "    return npa.mean(fims)*1e6\n",
    "\n",
    "# Compute the gradient and time the computation; print just the first value\n",
    "obj_grad = value_and_grad(fim_kavg)\n",
    "t = time.time()\n",
    "grad_a = obj_grad(pstart)[1]\n",
    "print(\"Autograd gradient:  %1.4f, computed in %1.4fs\" %(grad_a[0], time.time() - t))"
   ]
  },
  {
   "cell_type": "markdown",
   "metadata": {},
   "source": [
    "Below is an altenative way to do the same thing; if you compare the memory usage between the cell below and the one above, you'll realize the purpose of this whole thing.\n",
    "\n",
    "We use a custom function that mimics `map(lambda f: f(params), fns))` in a way that splits the gradient computation instead of storing all the intermediate variables for all functions. NB: the function `fns` all have to return a scalar and `params` are all vectors. `fmap` then returns an array of the same size as the number of functions in `fns`."
   ]
  },
  {
   "cell_type": "code",
   "execution_count": 21,
   "metadata": {
    "scrolled": true
   },
   "outputs": [
    {
     "name": "stdout",
     "output_type": "stream",
     "text": [
      "Autograd gradient:  269.5663, computed in 26.9777s\n"
     ]
    }
   ],
   "source": [
    "from legume.primitives import fmap\n",
    "\n",
    "def of_kavg_fmap(params):\n",
    "    # A function factory to make a list of functions for every k-point\n",
    "    def fim_factory(ik):\n",
    "        def fim(params):\n",
    "            (gme, freq_im) = gme_cavity_k(params, gmax, options, np.array([[kxg[ik]], [kyg[ik]]]))\n",
    "            return freq_im\n",
    "        return fim\n",
    "    \n",
    "    fims = fmap([fim_factory(ik=ik) for ik in range(nkx*nky)], params)\n",
    "    return npa.mean(fims)*1e6\n",
    "\n",
    "# Compute the gradient and time the computation; print just the first value\n",
    "obj_grad = value_and_grad(of_kavg_fmap)\n",
    "t = time.time()\n",
    "grad_a = obj_grad(pstart)[1]\n",
    "print(\"Autograd gradient:  %1.4f, computed in %1.4fs\" %(grad_a[0], time.time() - t))"
   ]
  },
  {
   "cell_type": "code",
   "execution_count": null,
   "metadata": {},
   "outputs": [],
   "source": [
    "%load_ext memory_profiler"
   ]
  }
 ],
 "metadata": {
  "kernelspec": {
   "display_name": "Python 3",
   "language": "python",
   "name": "python3"
  },
  "language_info": {
   "codemirror_mode": {
    "name": "ipython",
    "version": 3
   },
   "file_extension": ".py",
   "mimetype": "text/x-python",
   "name": "python",
   "nbconvert_exporter": "python",
   "pygments_lexer": "ipython3",
   "version": "3.7.3"
  }
 },
 "nbformat": 4,
 "nbformat_minor": 4
}
